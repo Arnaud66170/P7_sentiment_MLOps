{
 "cells": [
  {
   "cell_type": "markdown",
   "metadata": {},
   "source": [
    "# console : mlflow ui\n",
    "# Accès console MLFlow : http://127.0.0.1:5000\n",
    "# 1 - Chargement & configuration"
   ]
  },
  {
   "cell_type": "code",
   "execution_count": 1,
   "metadata": {},
   "outputs": [
    {
     "name": "stderr",
     "output_type": "stream",
     "text": [
      "c:\\Users\\motar\\Desktop\\1-openclassrooms\\AI_Engineer\\1-projets\\P07\\P7_sentiment_MLOps\\env_p7_MLOps\\lib\\site-packages\\tqdm\\auto.py:21: TqdmWarning: IProgress not found. Please update jupyter and ipywidgets. See https://ipywidgets.readthedocs.io/en/stable/user_install.html\n",
      "  from .autonotebook import tqdm as notebook_tqdm\n",
      "[nltk_data] Downloading package vader_lexicon to\n",
      "[nltk_data]     C:\\Users\\motar\\AppData\\Roaming\\nltk_data...\n",
      "[nltk_data]   Package vader_lexicon is already up-to-date!\n"
     ]
    },
    {
     "name": "stdout",
     "output_type": "stream",
     "text": [
      "WARNING:tensorflow:From c:\\Users\\motar\\Desktop\\1-openclassrooms\\AI_Engineer\\1-projets\\P07\\P7_sentiment_MLOps\\env_p7_MLOps\\lib\\site-packages\\tf_keras\\src\\losses.py:2976: The name tf.losses.sparse_softmax_cross_entropy is deprecated. Please use tf.compat.v1.losses.sparse_softmax_cross_entropy instead.\n",
      "\n",
      "\n",
      "✅ Toutes les librairies sont présentes et prêtes à être utilisées !\n",
      "\n"
     ]
    },
    {
     "name": "stderr",
     "output_type": "stream",
     "text": [
      "[nltk_data] Downloading package vader_lexicon to\n",
      "[nltk_data]     C:\\Users\\motar\\AppData\\Roaming\\nltk_data...\n",
      "[nltk_data]   Package vader_lexicon is already up-to-date!\n",
      "[nltk_data] Downloading package stopwords to\n",
      "[nltk_data]     C:\\Users\\motar\\AppData\\Roaming\\nltk_data...\n",
      "[nltk_data]   Package stopwords is already up-to-date!\n",
      "[nltk_data] Downloading package wordnet to\n",
      "[nltk_data]     C:\\Users\\motar\\AppData\\Roaming\\nltk_data...\n",
      "[nltk_data]   Package wordnet is already up-to-date!\n"
     ]
    },
    {
     "data": {
      "text/plain": [
       "<Experiment: artifact_location='file:///c:/Users/motar/Desktop/1-openclassrooms/AI_Engineer/1-projets/P07/P7_sentiment_MLOps/notebooks/mlruns/906586012259731436', creation_time=1742576058928, experiment_id='906586012259731436', last_update_time=1742576058928, lifecycle_stage='active', name='Sentiment Analysis Project', tags={}>"
      ]
     },
     "execution_count": 1,
     "metadata": {},
     "output_type": "execute_result"
    }
   ],
   "source": [
    "import sys\n",
    "import os\n",
    "sys.path.append('../src')\n",
    "sys.path.append(os.path.abspath(os.path.join(os.getcwd(), '..')))\n",
    "sys.path.append(os.path.abspath(os.path.join(os.getcwd(), '..', 'src')))\n",
    "\n",
    "from requirements import *\n",
    "from src import data_preprocessing as dp\n",
    "from src import model_training as mt\n",
    "from src import evaluate as ev\n",
    "from src import utils\n",
    "\n",
    "import mlflow\n",
    "mlflow.set_experiment(\"Sentiment Analysis Project\")"
   ]
  },
  {
   "cell_type": "markdown",
   "metadata": {},
   "source": [
    "## 1.1 - Affichage de la structure dossier"
   ]
  },
  {
   "cell_type": "code",
   "execution_count": 2,
   "metadata": {},
   "outputs": [
    {
     "name": "stdout",
     "output_type": "stream",
     "text": [
      "├── .git\n",
      "├── ├── COMMIT_EDITMSG\n",
      "├── ├── FETCH_HEAD\n",
      "├── ├── HEAD\n",
      "├── ├── config\n",
      "├── ├── description\n",
      "├── ├── hooks\n",
      "├── ├── index\n",
      "├── ├── info\n",
      "├── ├── logs\n",
      "├── ├── objects\n",
      "├── └── refs\n",
      "├── .gitattributes\n",
      "├── .gitignore\n",
      "├── README.md\n",
      "├── data\n",
      "├── └── tweets.csv\n",
      "├── env_p7_MLOps\n",
      "├── ├── Include\n",
      "├── ├── Lib\n",
      "├── ├── Scripts\n",
      "├── ├── etc\n",
      "├── ├── pyvenv.cfg\n",
      "├── └── share\n",
      "├── logs\n",
      "├── ├── events.out.tfevents.1741361244.PC-ARNAUD.37024.0\n",
      "├── ├── events.out.tfevents.1741362034.PC-ARNAUD.9628.0\n",
      "├── ├── events.out.tfevents.1741364804.PC-ARNAUD.38328.0\n",
      "├── ├── events.out.tfevents.1741507476.PC-ARNAUD.3024.0\n",
      "├── ├── events.out.tfevents.1741507646.PC-ARNAUD.3024.1\n",
      "├── ├── events.out.tfevents.1741513667.PC-ARNAUD.13340.0\n",
      "├── ├── events.out.tfevents.1741599815.PC-ARNAUD.27736.0\n",
      "├── ├── events.out.tfevents.1741603247.PC-ARNAUD.3852.0\n",
      "├── ├── events.out.tfevents.1741603852.PC-ARNAUD.24400.0\n",
      "├── ├── events.out.tfevents.1741604981.PC-ARNAUD.29024.0\n",
      "├── ├── events.out.tfevents.1741609885.PC-ARNAUD.30608.0\n",
      "├── ├── events.out.tfevents.1741633603.PC-ARNAUD.40828.0\n",
      "├── ├── events.out.tfevents.1741878760.PC-ARNAUD.26112.0\n",
      "├── ├── events.out.tfevents.1741896036.PC-ARNAUD.26288.0\n",
      "├── ├── events.out.tfevents.1741935846.PC-ARNAUD.7788.0\n",
      "├── ├── events.out.tfevents.1741941545.PC-ARNAUD.7788.2\n",
      "├── └── events.out.tfevents.1742199199.PC-ARNAUD.25320.0\n",
      "├── mlflow\n",
      "├── mlruns\n",
      "├── ├── .trash\n",
      "├── ├── 0\n",
      "├── ├── 346150508169324204\n",
      "├── ├── 968426534980835769\n",
      "├── └── models\n",
      "├── models\n",
      "├── models_saved\n",
      "├── ├── X_bow.pkl\n",
      "├── ├── X_fasttext.pkl\n",
      "├── ├── X_tfidf.pkl\n",
      "├── ├── X_use.pkl\n",
      "├── ├── cleaned_tweets.csv\n",
      "├── ├── cleaned_tweets.pkl\n",
      "├── ├── comparaison_resultats.csv\n",
      "├── ├── cosine_similarity.npy\n",
      "├── ├── distilbert_dataset.pkl\n",
      "├── ├── distilbert_eval_results.pkl\n",
      "├── ├── distilbert_model\n",
      "├── ├── distilbert_output\n",
      "├── ├── distilbert_results\n",
      "├── ├── lgbm_model.txt\n",
      "├── ├── log_reg_model.pkl\n",
      "├── ├── logs\n",
      "├── ├── lstm_eval_simulation.pkl\n",
      "├── ├── lstm_model.h5\n",
      "├── ├── rf_model.pkl\n",
      "├── ├── tfidf_split_data.joblib\n",
      "├── ├── tokenized_distilbert_dataset\n",
      "├── ├── tweets_fasttext.txt\n",
      "├── ├── vader_scores.pkl\n",
      "├── └── y_use.pkl\n",
      "├── notebooks\n",
      "├── ├── 01_full_pipeline_modeling.ipynb\n",
      "├── ├── P7_main_notebook.ipynb\n",
      "├── └── mlruns\n",
      "├── src\n",
      "├── ├── __init__.py\n",
      "├── ├── __pycache__\n",
      "├── ├── api\n",
      "├── ├── data_preprocessing.py\n",
      "├── ├── evaluate.py\n",
      "├── ├── functions.py\n",
      "├── ├── model_training.py\n",
      "├── ├── requirements.py\n",
      "├── ├── requirements.txt\n",
      "├── └── utils.py\n",
      "├── tests\n",
      "├── └── test_api.py\n",
      "├── tmp_trainer\n",
      "├── └── runs\n",
      "└── tokenized_distilbert_dataset\n",
      "├── ├── cache-4fd5ed254c63e60d.arrow\n",
      "├── ├── cache-59508564038c63f4.arrow\n",
      "├── ├── cache-93488f2cd6523051.arrow\n",
      "├── ├── cache-b4c7a2967748401c.arrow\n",
      "├── ├── cache-bb6997e2954fe2b5.arrow\n",
      "├── ├── data-00000-of-00001.arrow\n",
      "├── ├── dataset_info.json\n",
      "├── └── state.json\n"
     ]
    }
   ],
   "source": [
    "utils.afficher_structure_dossier(\"..\", max_niveaux = 1)"
   ]
  },
  {
   "cell_type": "markdown",
   "metadata": {},
   "source": [
    "## 1.2 - Chargement des données"
   ]
  },
  {
   "cell_type": "code",
   "execution_count": 3,
   "metadata": {},
   "outputs": [
    {
     "name": "stdout",
     "output_type": "stream",
     "text": [
      "📂 Répertoire courant : c:\\Users\\motar\\Desktop\\1-openclassrooms\\AI_Engineer\\1-projets\\P07\\P7_sentiment_MLOps\\notebooks\n"
     ]
    }
   ],
   "source": [
    "print(f\"📂 Répertoire courant : {os.getcwd()}\")"
   ]
  },
  {
   "cell_type": "code",
   "execution_count": 4,
   "metadata": {},
   "outputs": [
    {
     "name": "stdout",
     "output_type": "stream",
     "text": [
      "✅ Dataset chargé avec succès !\n"
     ]
    }
   ],
   "source": [
    "data_path = \"../data/tweets.csv\"\n",
    "if os.path.exists(data_path):\n",
    "    tweets = pd.read_csv(data_path, encoding = \"ISO-8859-1\")\n",
    "    print(\"✅ Dataset chargé avec succès !\")\n",
    "else:\n",
    "    print(\"❌ Le fichier tweets.csv est introuvable.\")"
   ]
  },
  {
   "cell_type": "markdown",
   "metadata": {},
   "source": [
    "# 2 - Exploration & nettoyage\n",
    "## 2.1 - Nettoyage initial"
   ]
  },
  {
   "cell_type": "code",
   "execution_count": 5,
   "metadata": {},
   "outputs": [
    {
     "name": "stdout",
     "output_type": "stream",
     "text": [
      "<class 'pandas.core.frame.DataFrame'>\n",
      "RangeIndex: 1599999 entries, 0 to 1599998\n",
      "Data columns (total 6 columns):\n",
      " #   Column                                                                                                               Non-Null Count    Dtype \n",
      "---  ------                                                                                                               --------------    ----- \n",
      " 0   0                                                                                                                    1599999 non-null  int64 \n",
      " 1   1467810369                                                                                                           1599999 non-null  int64 \n",
      " 2   Mon Apr 06 22:19:45 PDT 2009                                                                                         1599999 non-null  object\n",
      " 3   NO_QUERY                                                                                                             1599999 non-null  object\n",
      " 4   _TheSpecialOne_                                                                                                      1599999 non-null  object\n",
      " 5   @switchfoot http://twitpic.com/2y1zl - Awww, that's a bummer.  You shoulda got David Carr of Third Day to do it. ;D  1599999 non-null  object\n",
      "dtypes: int64(2), object(4)\n",
      "memory usage: 73.2+ MB\n",
      "None\n"
     ]
    }
   ],
   "source": [
    "print(tweets.info())"
   ]
  },
  {
   "cell_type": "code",
   "execution_count": 6,
   "metadata": {},
   "outputs": [],
   "source": [
    "# Renommage des colonnes\n",
    "tweets.columns = [\"label\", \"id\", \"date\", \"query\", \"user\", \"text\"]"
   ]
  },
  {
   "cell_type": "code",
   "execution_count": 7,
   "metadata": {},
   "outputs": [],
   "source": [
    "# Suppression des colonnes inutiles\n",
    "tweets = tweets.drop(columns=[\"id\", \"date\", \"query\", \"user\"])"
   ]
  },
  {
   "cell_type": "code",
   "execution_count": 8,
   "metadata": {},
   "outputs": [],
   "source": [
    "# Conversion des labels (0 et 4 → 0 et 1)\n",
    "tweets['label'] = tweets['label'].map({0: 0, 4: 1})"
   ]
  },
  {
   "cell_type": "markdown",
   "metadata": {},
   "source": [
    "## 2.2 - Suppression des doublons sur la colonne \"text\""
   ]
  },
  {
   "cell_type": "code",
   "execution_count": 9,
   "metadata": {},
   "outputs": [
    {
     "name": "stdout",
     "output_type": "stream",
     "text": [
      "✅ Suppression des doublons effectuée : 18534 doublons supprimés.\n"
     ]
    }
   ],
   "source": [
    "before = len(tweets)\n",
    "tweets = tweets.drop_duplicates(subset = [\"text\"], keep = \"first\").reset_index(drop = True)\n",
    "after = len(tweets)\n",
    "print(f\"✅ Suppression des doublons effectuée : {before - after} doublons supprimés.\")\n",
    "tweets = tweets.reset_index(drop = True)"
   ]
  },
  {
   "cell_type": "markdown",
   "metadata": {},
   "source": [
    "## 2.3 - Nettoyage avancé"
   ]
  },
  {
   "cell_type": "code",
   "execution_count": 10,
   "metadata": {},
   "outputs": [
    {
     "name": "stdout",
     "output_type": "stream",
     "text": [
      "🚀 Nouveau run démarré : 23b736ab4d67440e87f24a7012c1cc1c\n",
      "✅ Chargement des tweets nettoyés depuis ../models_saved/cleaned_tweets.pkl\n",
      "✅ Run terminé.\n"
     ]
    }
   ],
   "source": [
    "tweets_cleaned = dp.preprocess_tweets_parallel(tweets)"
   ]
  },
  {
   "cell_type": "markdown",
   "metadata": {},
   "source": [
    "# 3 - Vader scoring"
   ]
  },
  {
   "cell_type": "code",
   "execution_count": 11,
   "metadata": {},
   "outputs": [
    {
     "name": "stdout",
     "output_type": "stream",
     "text": [
      "🚀 Nouveau run démarré : 32f210daac7d4e299f7ec9b1cdd8af3f\n",
      "✅ Scores VADER chargés depuis ../models_saved/vader_scores.pkl...\n",
      "\n",
      "📊 Rapport de classification VADER :\n",
      "              precision    recall  f1-score   support\n",
      "\n",
      "           0       0.81      0.43      0.56    790184\n",
      "           1       0.61      0.90      0.73    791281\n",
      "\n",
      "    accuracy                           0.67   1581465\n",
      "   macro avg       0.71      0.67      0.65   1581465\n",
      "weighted avg       0.71      0.67      0.65   1581465\n",
      "\n",
      "✅ Run terminé.\n"
     ]
    }
   ],
   "source": [
    "vader_scores = dp.compute_vader_scores(tweets_cleaned)"
   ]
  },
  {
   "cell_type": "markdown",
   "metadata": {},
   "source": [
    "# 4 - Vectorisation des tweets"
   ]
  },
  {
   "cell_type": "code",
   "execution_count": 12,
   "metadata": {},
   "outputs": [
    {
     "name": "stdout",
     "output_type": "stream",
     "text": [
      "🚀 Nouveau run démarré : f894ba6b668040d1868b620224dccd6e\n",
      "📂 Chargement des matrices vectorisées existantes...\n",
      "✅ Run terminé.\n"
     ]
    }
   ],
   "source": [
    "sample_size = 15000  # Taille échantillon USE (modifiable)\n",
    "\n",
    "tweets_sampled = tweets_cleaned.sample(n = sample_size, random_state = 70).reset_index(drop = True)\n",
    "\n",
    "X_bow, X_tfidf, X_fasttext, X_use, y_use = dp.vectorize_and_save(\n",
    "    tweets_cleaned['text'], tweets_sampled['text'],\n",
    "    tweets_cleaned['label'], tweets_sampled['label']\n",
    ")"
   ]
  },
  {
   "cell_type": "markdown",
   "metadata": {},
   "source": [
    "# 5 - Modélisation Classique (TF-IDF + Régression Logistique)"
   ]
  },
  {
   "cell_type": "code",
   "execution_count": null,
   "metadata": {},
   "outputs": [
    {
     "name": "stdout",
     "output_type": "stream",
     "text": [
      "🚀 Nouveau run démarré : ebf4c44836e24637bb5aa30a72706b55\n",
      "✅ Modèle Régression Logistique déjà existant. Chargement...\n",
      "✅ Run terminé.\n"
     ]
    }
   ],
   "source": [
    "X_tfidf_train, X_tfidf_test, y_train, y_test = train_test_split(\n",
    "    X_tfidf, tweets_cleaned['label'], test_size = 0.2, random_state = 70, stratify=tweets_cleaned['label']\n",
    ")\n",
    "# log_reg_model = mt.train_logistic_regression_with_cv(X_tfidf_train, y_train)\n",
    "log_reg_model = mt.train_logistic_regression_with_cv(X_tfidf_train, y_train, force_retrain = True)"
   ]
  },
  {
   "cell_type": "markdown",
   "metadata": {},
   "source": [
    "# 6 - Modèles Avancés (Random Forest / LightGBM / LSTM)\n",
    "## 6.1 - FastText + Random Forest"
   ]
  },
  {
   "cell_type": "code",
   "execution_count": null,
   "metadata": {},
   "outputs": [
    {
     "name": "stdout",
     "output_type": "stream",
     "text": [
      "🚀 Nouveau run démarré : e494d55ae4ff425a8caf35fe84cc1fc9\n",
      "✅ Modèle RandomForest déjà existant. Chargement...\n",
      "✅ Run terminé.\n"
     ]
    }
   ],
   "source": [
    "X_ft_train, X_ft_test, y_train, y_test = train_test_split(\n",
    "    X_fasttext, tweets_cleaned['label'], test_size = 0.2, random_state = 70, stratify = tweets_cleaned['label']\n",
    ")\n",
    "# rf_model = mt.train_random_forest(X_ft_train, y_train)\n",
    "rf_model = mt.train_random_forest(X_ft_train, y_train, force_retrain = True)"
   ]
  },
  {
   "cell_type": "markdown",
   "metadata": {},
   "source": [
    "## 6.2 - FastText + LSTM"
   ]
  },
  {
   "cell_type": "code",
   "execution_count": null,
   "metadata": {},
   "outputs": [
    {
     "name": "stdout",
     "output_type": "stream",
     "text": [
      "🚀 Nouveau run démarré : 2ec12602317e40f189887428c2f99654\n"
     ]
    },
    {
     "name": "stderr",
     "output_type": "stream",
     "text": [
      "WARNING:absl:Compiled the loaded model, but the compiled metrics have yet to be built. `model.compile_metrics` will be empty until you train or evaluate the model.\n"
     ]
    },
    {
     "name": "stdout",
     "output_type": "stream",
     "text": [
      "✅ Modèle LSTM déjà existant. Chargement...\n",
      "✅ Run terminé.\n"
     ]
    }
   ],
   "source": [
    "# lstm_model, (X_ft_test_reshaped, y_ft_test), history = mt.train_lstm_model(X_fasttext, tweets_cleaned['label'])\n",
    "lstm_model, (X_ft_test_reshaped, y_ft_test), history = mt.train_lstm_model(X_fasttext, tweets_cleaned['label'], force_retrain = True)"
   ]
  },
  {
   "cell_type": "markdown",
   "metadata": {},
   "source": [
    "## 6.3 - USE + LightGBM"
   ]
  },
  {
   "cell_type": "code",
   "execution_count": null,
   "metadata": {},
   "outputs": [
    {
     "name": "stdout",
     "output_type": "stream",
     "text": [
      "🚀 Nouveau run démarré : e1c5e666c49542f28c899f466f63ed34\n",
      "✅ Modèle LightGBM existant. Chargement...\n",
      "✅ Run terminé.\n"
     ]
    }
   ],
   "source": [
    "X_use_train, X_use_test, y_use_train, y_use_test = train_test_split(\n",
    "    X_use, y_use, test_size = 0.2, random_state = 70, stratify = y_use\n",
    ")\n",
    "# lgbm_model = mt.train_lightgbm(X_use_train, y_use_train, X_use_test, y_use_test)\n",
    "lgbm_model = mt.train_lightgbm(X_use_train, y_use_train, X_use_test, y_use_test, force_retrain = True)"
   ]
  },
  {
   "cell_type": "markdown",
   "metadata": {},
   "source": [
    "## 6.4 - DistilBERT\n",
    "### 6.4.1 - Préparation"
   ]
  },
  {
   "cell_type": "code",
   "execution_count": 17,
   "metadata": {},
   "outputs": [
    {
     "name": "stdout",
     "output_type": "stream",
     "text": [
      "🚀 Nouveau run démarré : 4beb772948894d6495af94597142f61d\n",
      "✅ Dataset DistilBERT existant. Chargement...\n",
      "✅ Run terminé.\n",
      "🚀 Nouveau run démarré : af4de9d6cd3148899ddd76f7b0fe1a7b\n",
      "✅ Tokenized dataset déjà existant. Chargement depuis ../models_saved/tokenized_distilbert_dataset...\n",
      "✅ Run terminé.\n"
     ]
    }
   ],
   "source": [
    "df_sample = dp.prepare_distilbert_dataset(tweets_cleaned)\n",
    "tokenized = dp.tokenize_distilbert_dataset(df_sample)"
   ]
  },
  {
   "cell_type": "markdown",
   "metadata": {},
   "source": [
    "### 6.2.2 - Fine-tuning "
   ]
  },
  {
   "cell_type": "code",
   "execution_count": null,
   "metadata": {},
   "outputs": [
    {
     "name": "stdout",
     "output_type": "stream",
     "text": [
      "🚀 Nouveau run démarré : 589fe6de85c5476482d3b102c3f4af93\n",
      "✅ Modèle DistilBERT déjà fine-tuné. Chargement depuis ../models_saved/distilbert_model...\n",
      "✅ Run terminé.\n"
     ]
    }
   ],
   "source": [
    "model, trainer, _ = mt.train_distilbert_model(tokenized)\n",
    "# model, trainer, _ = mt.train_distilbert_model(tokenized, force_retrain = True)"
   ]
  },
  {
   "cell_type": "markdown",
   "metadata": {},
   "source": [
    "# 7 - Evaluation"
   ]
  },
  {
   "cell_type": "code",
   "execution_count": 19,
   "metadata": {},
   "outputs": [
    {
     "name": "stdout",
     "output_type": "stream",
     "text": [
      "🚀 Nouveau run démarré : c5151e2b35774e31bcc080b68694df81\n",
      "✅ Résultats d'évaluation déjà disponibles. Chargement...\n",
      "\n",
      "📊 Rapport DistilBERT :\n",
      "              precision    recall  f1-score   support\n",
      "\n",
      "           0       0.85      0.84      0.84     10038\n",
      "           1       0.84      0.85      0.84      9962\n",
      "\n",
      "    accuracy                           0.84     20000\n",
      "   macro avg       0.84      0.84      0.84     20000\n",
      "weighted avg       0.84      0.84      0.84     20000\n",
      "\n",
      "✅ Run terminé.\n"
     ]
    }
   ],
   "source": [
    "distilbert_acc, distilbert_f1 = ev.evaluate_distilbert_model(model, tokenized)"
   ]
  },
  {
   "cell_type": "markdown",
   "metadata": {},
   "source": [
    "# 8 - Comparaison finale des modèles"
   ]
  },
  {
   "cell_type": "code",
   "execution_count": 20,
   "metadata": {},
   "outputs": [],
   "source": [
    "models_dict = {\n",
    "    'logreg': log_reg_model,\n",
    "    'rf': rf_model,\n",
    "    'lstm': lstm_model,\n",
    "    'lgbm': lgbm_model,\n",
    "    'distilbert_metrics': {\n",
    "        'accuracy': distilbert_acc,\n",
    "        'f1': distilbert_f1\n",
    "    }\n",
    "}\n",
    "\n",
    "datasets_dict = {\n",
    "    'tfidf': {'X_test': X_tfidf_test, 'y_test': y_test},\n",
    "    'fasttext': {'X_test': X_ft_test, 'y_test': y_test},\n",
    "    'lstm': (X_ft_test_reshaped, y_ft_test),\n",
    "    'use': {'X_test': X_use_test, 'y_test': y_use_test}\n",
    "}"
   ]
  },
  {
   "cell_type": "code",
   "execution_count": 21,
   "metadata": {},
   "outputs": [
    {
     "name": "stdout",
     "output_type": "stream",
     "text": [
      "🚀 Nouveau run démarré : b3a4c9f19902487da85a0d6e56944f2d\n",
      "\n",
      "📊 Résultats pour : logreg\n",
      "              precision    recall  f1-score   support\n",
      "\n",
      "           0       0.77      0.72      0.75    158037\n",
      "           1       0.74      0.79      0.76    158256\n",
      "\n",
      "    accuracy                           0.76    316293\n",
      "   macro avg       0.76      0.76      0.76    316293\n",
      "weighted avg       0.76      0.76      0.76    316293\n",
      "\n"
     ]
    },
    {
     "data": {
      "image/png": "[encoded data removed]",
      "text/plain": [
       "<Figure size 600x600 with 2 Axes>"
      ]
     },
     "metadata": {},
     "output_type": "display_data"
    },
    {
     "name": "stdout",
     "output_type": "stream",
     "text": [
      "\n",
      "📊 Résultats pour : rf\n",
      "              precision    recall  f1-score   support\n",
      "\n",
      "           0       0.50      0.81      0.62    158037\n",
      "           1       0.49      0.18      0.27    158256\n",
      "\n",
      "    accuracy                           0.50    316293\n",
      "   macro avg       0.49      0.50      0.44    316293\n",
      "weighted avg       0.49      0.50      0.44    316293\n",
      "\n"
     ]
    },
    {
     "data": {
      "image/png": "[encoded data removed]",
      "text/plain": [
       "<Figure size 600x600 with 2 Axes>"
      ]
     },
     "metadata": {},
     "output_type": "display_data"
    },
    {
     "name": "stdout",
     "output_type": "stream",
     "text": [
      "\u001b[1m9885/9885\u001b[0m \u001b[32m━━━━━━━━━━━━━━━━━━━━\u001b[0m\u001b[37m\u001b[0m \u001b[1m8s\u001b[0m 747us/step\n",
      "\n",
      "📊 Résultats pour : lstm\n",
      "              precision    recall  f1-score   support\n",
      "\n",
      "           0       0.51      0.95      0.66    158037\n",
      "           1       0.61      0.08      0.14    158256\n",
      "\n",
      "    accuracy                           0.51    316293\n",
      "   macro avg       0.56      0.51      0.40    316293\n",
      "weighted avg       0.56      0.51      0.40    316293\n",
      "\n"
     ]
    },
    {
     "data": {
      "image/png": "[encoded data removed]",
      "text/plain": [
       "<Figure size 600x600 with 2 Axes>"
      ]
     },
     "metadata": {},
     "output_type": "display_data"
    },
    {
     "name": "stdout",
     "output_type": "stream",
     "text": [
      "\n",
      "📊 Résultats pour : lgbm\n",
      "              precision    recall  f1-score   support\n",
      "\n",
      "           0       0.74      0.71      0.73      1505\n",
      "           1       0.72      0.74      0.73      1495\n",
      "\n",
      "    accuracy                           0.73      3000\n",
      "   macro avg       0.73      0.73      0.73      3000\n",
      "weighted avg       0.73      0.73      0.73      3000\n",
      "\n"
     ]
    },
    {
     "data": {
      "image/png": "[encoded data removed]",
      "text/plain": [
       "<Figure size 600x600 with 2 Axes>"
      ]
     },
     "metadata": {},
     "output_type": "display_data"
    },
    {
     "name": "stdout",
     "output_type": "stream",
     "text": [
      "\n",
      "📊 Comparaison finale des modèles :\n"
     ]
    },
    {
     "data": {
      "text/html": [
       "<div>\n",
       "<style scoped>\n",
       "    .dataframe tbody tr th:only-of-type {\n",
       "        vertical-align: middle;\n",
       "    }\n",
       "\n",
       "    .dataframe tbody tr th {\n",
       "        vertical-align: top;\n",
       "    }\n",
       "\n",
       "    .dataframe thead th {\n",
       "        text-align: right;\n",
       "    }\n",
       "</style>\n",
       "<table border=\"1\" class=\"dataframe\">\n",
       "  <thead>\n",
       "    <tr style=\"text-align: right;\">\n",
       "      <th></th>\n",
       "      <th>Modèle</th>\n",
       "      <th>Accuracy</th>\n",
       "      <th>F1-score</th>\n",
       "    </tr>\n",
       "  </thead>\n",
       "  <tbody>\n",
       "    <tr>\n",
       "      <th>0</th>\n",
       "      <td>logreg</td>\n",
       "      <td>0.7560</td>\n",
       "      <td>0.7638</td>\n",
       "    </tr>\n",
       "    <tr>\n",
       "      <th>1</th>\n",
       "      <td>rf</td>\n",
       "      <td>0.4966</td>\n",
       "      <td>0.2675</td>\n",
       "    </tr>\n",
       "    <tr>\n",
       "      <th>2</th>\n",
       "      <td>lstm</td>\n",
       "      <td>0.5137</td>\n",
       "      <td>0.1370</td>\n",
       "    </tr>\n",
       "    <tr>\n",
       "      <th>3</th>\n",
       "      <td>lgbm</td>\n",
       "      <td>0.7283</td>\n",
       "      <td>0.7315</td>\n",
       "    </tr>\n",
       "    <tr>\n",
       "      <th>4</th>\n",
       "      <td>DistilBERT fine-tuné</td>\n",
       "      <td>0.8423</td>\n",
       "      <td>0.8427</td>\n",
       "    </tr>\n",
       "  </tbody>\n",
       "</table>\n",
       "</div>"
      ],
      "text/plain": [
       "                 Modèle  Accuracy  F1-score\n",
       "0                logreg    0.7560    0.7638\n",
       "1                    rf    0.4966    0.2675\n",
       "2                  lstm    0.5137    0.1370\n",
       "3                  lgbm    0.7283    0.7315\n",
       "4  DistilBERT fine-tuné    0.8423    0.8427"
      ]
     },
     "metadata": {},
     "output_type": "display_data"
    },
    {
     "name": "stdout",
     "output_type": "stream",
     "text": [
      "✅ Run terminé.\n"
     ]
    }
   ],
   "source": [
    "df_results = ev.get_all_model_scores(models_dict, datasets_dict)"
   ]
  },
  {
   "cell_type": "markdown",
   "metadata": {},
   "source": [
    "# 9 - Tracking MLFlow"
   ]
  },
  {
   "cell_type": "code",
   "execution_count": 22,
   "metadata": {},
   "outputs": [],
   "source": [
    "y_pred = log_reg_model.predict(X_tfidf_test)\n",
    "mlflow.log_param(\"model\", \"Logistic Regression\")\n",
    "mlflow.log_metric(\"accuracy\", accuracy_score(y_test, y_pred))\n",
    "mlflow.log_metric(\"f1_score\", f1_score(y_test, y_pred))"
   ]
  },
  {
   "cell_type": "code",
   "execution_count": 23,
   "metadata": {},
   "outputs": [],
   "source": [
    "if mlflow.active_run() is not None:\n",
    "    mlflow.end_run()"
   ]
  },
  {
   "cell_type": "code",
   "execution_count": 24,
   "metadata": {},
   "outputs": [],
   "source": [
    "with mlflow.start_run():\n",
    "    # entraînement modèle, log params & metrics\n",
    "    mlflow.log_param(\"model\", \"Logistic Regression\")\n",
    "    mlflow.log_metric(\"accuracy\", accuracy_score(y_test, y_pred))"
   ]
  },
  {
   "cell_type": "markdown",
   "metadata": {},
   "source": [
    "# A désactiver en production"
   ]
  },
  {
   "cell_type": "code",
   "execution_count": 25,
   "metadata": {},
   "outputs": [
    {
     "name": "stdout",
     "output_type": "stream",
     "text": [
      "🚀 MLFlow UI lancé sur http://127.0.0.1:5000\n"
     ]
    }
   ],
   "source": [
    "utils.launch_mlflow_ui()"
   ]
  },
  {
   "cell_type": "code",
   "execution_count": 26,
   "metadata": {},
   "outputs": [],
   "source": [
    "# mlflow.end_run()  # Pour stopper tout run en cours\n"
   ]
  },
  {
   "cell_type": "markdown",
   "metadata": {},
   "source": []
  },
  {
   "cell_type": "code",
   "execution_count": null,
   "metadata": {},
   "outputs": [],
   "source": []
  }
 ],
 "metadata": {
  "kernelspec": {
   "display_name": "env_p7_MLOps",
   "language": "python",
   "name": "python3"
  },
  "language_info": {
   "codemirror_mode": {
    "name": "ipython",
    "version": 3
   },
   "file_extension": ".py",
   "mimetype": "text/x-python",
   "name": "python",
   "nbconvert_exporter": "python",
   "pygments_lexer": "ipython3",
   "version": "3.10.11"
  }
 },
 "nbformat": 4,
 "nbformat_minor": 2
}
