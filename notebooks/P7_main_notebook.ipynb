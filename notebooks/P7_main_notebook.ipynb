{
 "cells": [
  {
   "cell_type": "markdown",
   "metadata": {},
   "source": [
    "# console : mlflow ui\n",
    "# Accès console MLFlow : http://127.0.0.1:5000\n",
    "# 1 - Chargement & configuration - 18 sec"
   ]
  },
  {
   "cell_type": "code",
   "execution_count": 1,
   "metadata": {},
   "outputs": [
    {
     "name": "stderr",
     "output_type": "stream",
     "text": [
      "c:\\Users\\motar\\Desktop\\1-openclassrooms\\AI_Engineer\\1-projets\\P07\\P7_sentiment_MLOps\\env_p7_MLOps\\lib\\site-packages\\tqdm\\auto.py:21: TqdmWarning: IProgress not found. Please update jupyter and ipywidgets. See https://ipywidgets.readthedocs.io/en/stable/user_install.html\n",
      "  from .autonotebook import tqdm as notebook_tqdm\n",
      "[nltk_data] Downloading package vader_lexicon to\n",
      "[nltk_data]     C:\\Users\\motar\\AppData\\Roaming\\nltk_data...\n",
      "[nltk_data]   Package vader_lexicon is already up-to-date!\n"
     ]
    },
    {
     "name": "stdout",
     "output_type": "stream",
     "text": [
      "WARNING:tensorflow:From c:\\Users\\motar\\Desktop\\1-openclassrooms\\AI_Engineer\\1-projets\\P07\\P7_sentiment_MLOps\\env_p7_MLOps\\lib\\site-packages\\tf_keras\\src\\losses.py:2976: The name tf.losses.sparse_softmax_cross_entropy is deprecated. Please use tf.compat.v1.losses.sparse_softmax_cross_entropy instead.\n",
      "\n",
      "\n",
      "✅ Toutes les librairies sont présentes et prêtes à être utilisées !\n",
      "\n"
     ]
    },
    {
     "name": "stderr",
     "output_type": "stream",
     "text": [
      "[nltk_data] Downloading package vader_lexicon to\n",
      "[nltk_data]     C:\\Users\\motar\\AppData\\Roaming\\nltk_data...\n",
      "[nltk_data]   Package vader_lexicon is already up-to-date!\n",
      "[nltk_data] Downloading package stopwords to\n",
      "[nltk_data]     C:\\Users\\motar\\AppData\\Roaming\\nltk_data...\n",
      "[nltk_data]   Package stopwords is already up-to-date!\n",
      "[nltk_data] Downloading package wordnet to\n",
      "[nltk_data]     C:\\Users\\motar\\AppData\\Roaming\\nltk_data...\n",
      "[nltk_data]   Package wordnet is already up-to-date!\n",
      "WARNING:root:Malformed experiment '2'. Detailed error Yaml file 'C:\\Users\\motar\\Desktop\\1-openclassrooms\\AI_Engineer\\1-projets\\P07\\P7_sentiment_MLOps\\notebooks\\mlruns\\2\\meta.yaml' does not exist.\n",
      "Traceback (most recent call last):\n",
      "  File \"c:\\Users\\motar\\Desktop\\1-openclassrooms\\AI_Engineer\\1-projets\\P07\\P7_sentiment_MLOps\\env_p7_MLOps\\lib\\site-packages\\mlflow\\store\\tracking\\file_store.py\", line 329, in search_experiments\n",
      "    exp = self._get_experiment(exp_id, view_type)\n",
      "  File \"c:\\Users\\motar\\Desktop\\1-openclassrooms\\AI_Engineer\\1-projets\\P07\\P7_sentiment_MLOps\\env_p7_MLOps\\lib\\site-packages\\mlflow\\store\\tracking\\file_store.py\", line 427, in _get_experiment\n",
      "    meta = FileStore._read_yaml(experiment_dir, FileStore.META_DATA_FILE_NAME)\n",
      "  File \"c:\\Users\\motar\\Desktop\\1-openclassrooms\\AI_Engineer\\1-projets\\P07\\P7_sentiment_MLOps\\env_p7_MLOps\\lib\\site-packages\\mlflow\\store\\tracking\\file_store.py\", line 1373, in _read_yaml\n",
      "    return _read_helper(root, file_name, attempts_remaining=retries)\n",
      "  File \"c:\\Users\\motar\\Desktop\\1-openclassrooms\\AI_Engineer\\1-projets\\P07\\P7_sentiment_MLOps\\env_p7_MLOps\\lib\\site-packages\\mlflow\\store\\tracking\\file_store.py\", line 1366, in _read_helper\n",
      "    result = read_yaml(root, file_name)\n",
      "  File \"c:\\Users\\motar\\Desktop\\1-openclassrooms\\AI_Engineer\\1-projets\\P07\\P7_sentiment_MLOps\\env_p7_MLOps\\lib\\site-packages\\mlflow\\utils\\file_utils.py\", line 310, in read_yaml\n",
      "    raise MissingConfigException(f\"Yaml file '{file_path}' does not exist.\")\n",
      "mlflow.exceptions.MissingConfigException: Yaml file 'C:\\Users\\motar\\Desktop\\1-openclassrooms\\AI_Engineer\\1-projets\\P07\\P7_sentiment_MLOps\\notebooks\\mlruns\\2\\meta.yaml' does not exist.\n"
     ]
    },
    {
     "data": {
      "text/plain": [
       "<Experiment: artifact_location='file:///c:/Users/motar/Desktop/1-openclassrooms/AI_Engineer/1-projets/P07/P7_sentiment_MLOps/notebooks/mlruns/906586012259731436', creation_time=1742576058928, experiment_id='906586012259731436', last_update_time=1742576058928, lifecycle_stage='active', name='Sentiment Analysis Project', tags={}>"
      ]
     },
     "execution_count": 1,
     "metadata": {},
     "output_type": "execute_result"
    }
   ],
   "source": [
    "import sys\n",
    "import os\n",
    "sys.path.append('../src')\n",
    "sys.path.append(os.path.abspath(os.path.join(os.getcwd(), '..')))\n",
    "sys.path.append(os.path.abspath(os.path.join(os.getcwd(), '..', 'src')))\n",
    "\n",
    "from requirements import *\n",
    "from src import data_preprocessing as dp\n",
    "from src import model_training as mt\n",
    "from src import evaluate as ev\n",
    "from src import utils\n",
    "\n",
    "import mlflow\n",
    "mlflow.set_experiment(\"Sentiment Analysis Project\")"
   ]
  },
  {
   "cell_type": "markdown",
   "metadata": {},
   "source": [
    "## 1.1 - Démarrage automatique du serveur MLflow (Backend SQLite + Artifact Store local)"
   ]
  },
  {
   "cell_type": "code",
   "execution_count": 2,
   "metadata": {},
   "outputs": [
    {
     "name": "stdout",
     "output_type": "stream",
     "text": [
      "🚀 Démarrage du serveur MLflow (SQLite backend)...\n",
      "✅ MLflow UI disponible sur : http://127.0.0.1:5000\n"
     ]
    },
    {
     "data": {
      "text/plain": [
       "<Experiment: artifact_location='file:///c:/Users/motar/Desktop/1-openclassrooms/AI_Engineer/1-projets/P07/P7_sentiment_MLOps/notebooks/mlruns/1', creation_time=1742742465185, experiment_id='1', last_update_time=1742742465185, lifecycle_stage='active', name='Sentiment Analysis Project', tags={}>"
      ]
     },
     "execution_count": 2,
     "metadata": {},
     "output_type": "execute_result"
    }
   ],
   "source": [
    "utils.start_mlflow_server(port = 5000)\n",
    "mlflow.set_tracking_uri(\"http://127.0.0.1:5000\")\n",
    "mlflow.set_experiment(\"Sentiment Analysis Project\")"
   ]
  },
  {
   "cell_type": "markdown",
   "metadata": {},
   "source": [
    "## 1.2 - Affichage de la structure dossier"
   ]
  },
  {
   "cell_type": "code",
   "execution_count": 34,
   "metadata": {},
   "outputs": [
    {
     "name": "stdout",
     "output_type": "stream",
     "text": [
      "├── .dockerignore\n",
      "├── .git\n",
      "├── ├── COMMIT_EDITMSG\n",
      "├── ├── FETCH_HEAD\n",
      "├── ├── HEAD\n",
      "├── ├── config\n",
      "├── ├── description\n",
      "├── ├── hooks\n",
      "│   ├── ├── applypatch-msg.sample\n",
      "│   ├── ├── commit-msg.sample\n",
      "│   ├── ├── fsmonitor-watchman.sample\n",
      "│   ├── ├── post-update.sample\n",
      "│   ├── ├── pre-applypatch.sample\n",
      "│   ├── ├── pre-commit.sample\n",
      "│   ├── ├── pre-merge-commit.sample\n",
      "│   ├── ├── pre-push.sample\n",
      "│   ├── ├── pre-rebase.sample\n",
      "│   ├── ├── pre-receive.sample\n",
      "│   ├── ├── prepare-commit-msg.sample\n",
      "│   ├── ├── push-to-checkout.sample\n",
      "│   ├── ├── sendemail-validate.sample\n",
      "│   ├── └── update.sample\n",
      "├── ├── index\n",
      "├── ├── info\n",
      "│   ├── └── exclude\n",
      "├── ├── logs\n",
      "│   ├── ├── HEAD\n",
      "│   ├── └── refs\n",
      "├── ├── objects\n",
      "│   ├── ├── 00\n",
      "│   ├── ├── 01\n",
      "│   ├── ├── 02\n",
      "│   ├── ├── 04\n",
      "│   ├── ├── 05\n",
      "│   ├── ├── 06\n",
      "│   ├── ├── 08\n",
      "│   ├── ├── 0d\n",
      "│   ├── ├── 0e\n",
      "│   ├── ├── 0f\n",
      "│   ├── ├── 12\n",
      "│   ├── ├── 13\n",
      "│   ├── ├── 15\n",
      "│   ├── ├── 18\n",
      "│   ├── ├── 19\n",
      "│   ├── ├── 1a\n",
      "│   ├── ├── 1d\n",
      "│   ├── ├── 1f\n",
      "│   ├── ├── 20\n",
      "│   ├── ├── 22\n",
      "│   ├── ├── 23\n",
      "│   ├── ├── 26\n",
      "│   ├── ├── 27\n",
      "│   ├── ├── 28\n",
      "│   ├── ├── 2c\n",
      "│   ├── ├── 2d\n",
      "│   ├── ├── 32\n",
      "│   ├── ├── 35\n",
      "│   ├── ├── 38\n",
      "│   ├── ├── 3a\n",
      "│   ├── ├── 3c\n",
      "│   ├── ├── 3d\n",
      "│   ├── ├── 3e\n",
      "│   ├── ├── 42\n",
      "│   ├── ├── 46\n",
      "│   ├── ├── 47\n",
      "│   ├── ├── 49\n",
      "│   ├── ├── 4c\n",
      "│   ├── ├── 4e\n",
      "│   ├── ├── 51\n",
      "│   ├── ├── 52\n",
      "│   ├── ├── 53\n",
      "│   ├── ├── 57\n",
      "│   ├── ├── 59\n",
      "│   ├── ├── 5a\n",
      "│   ├── ├── 5f\n",
      "│   ├── ├── 61\n",
      "│   ├── ├── 62\n",
      "│   ├── ├── 63\n",
      "│   ├── ├── 66\n",
      "│   ├── ├── 67\n",
      "│   ├── ├── 68\n",
      "│   ├── ├── 6c\n",
      "│   ├── ├── 6d\n",
      "│   ├── ├── 6f\n",
      "│   ├── ├── 70\n",
      "│   ├── ├── 71\n",
      "│   ├── ├── 72\n",
      "│   ├── ├── 75\n",
      "│   ├── ├── 76\n",
      "│   ├── ├── 77\n",
      "│   ├── ├── 79\n",
      "│   ├── ├── 7a\n",
      "│   ├── ├── 7b\n",
      "│   ├── ├── 7c\n",
      "│   ├── ├── 7f\n",
      "│   ├── ├── 83\n",
      "│   ├── ├── 86\n",
      "│   ├── ├── 8a\n",
      "│   ├── ├── 8c\n",
      "│   ├── ├── 8d\n",
      "│   ├── ├── 8f\n",
      "│   ├── ├── 90\n",
      "│   ├── ├── 91\n",
      "│   ├── ├── 94\n",
      "│   ├── ├── 96\n",
      "│   ├── ├── 97\n",
      "│   ├── ├── 9e\n",
      "│   ├── ├── a0\n",
      "│   ├── ├── a1\n",
      "│   ├── ├── a2\n",
      "│   ├── ├── a3\n",
      "│   ├── ├── a9\n",
      "│   ├── ├── aa\n",
      "│   ├── ├── ab\n",
      "│   ├── ├── ad\n",
      "│   ├── ├── af\n",
      "│   ├── ├── b1\n",
      "│   ├── ├── b5\n",
      "│   ├── ├── b6\n",
      "│   ├── ├── ba\n",
      "│   ├── ├── bd\n",
      "│   ├── ├── bf\n",
      "│   ├── ├── c1\n",
      "│   ├── ├── c3\n",
      "│   ├── ├── c5\n",
      "│   ├── ├── c6\n",
      "│   ├── ├── c7\n",
      "│   ├── ├── c8\n",
      "│   ├── ├── cb\n",
      "│   ├── ├── cd\n",
      "│   ├── ├── d0\n",
      "│   ├── ├── d1\n",
      "│   ├── ├── d2\n",
      "│   ├── ├── d3\n",
      "│   ├── ├── da\n",
      "│   ├── ├── db\n",
      "│   ├── ├── dd\n",
      "│   ├── ├── df\n",
      "│   ├── ├── e5\n",
      "│   ├── ├── e6\n",
      "│   ├── ├── ee\n",
      "│   ├── ├── f0\n",
      "│   ├── ├── f4\n",
      "│   ├── ├── f5\n",
      "│   ├── ├── f6\n",
      "│   ├── ├── fb\n",
      "│   ├── ├── fc\n",
      "│   ├── ├── info\n",
      "│   ├── └── pack\n",
      "├── └── refs\n",
      "│   ├── ├── heads\n",
      "│   ├── ├── remotes\n",
      "│   ├── └── tags\n",
      "├── .gitattributes\n",
      "├── .github\n",
      "├── └── workflows\n",
      "│   ├── ├── deploy_ec2.yml\n",
      "│   ├── └── deploy_railway.yml\n",
      "├── .gitignore\n",
      "├── Dockerfile\n",
      "├── README.md\n",
      "├── data\n",
      "├── └── tweets.csv\n",
      "├── env_p7_MLOps\n",
      "├── ├── Include\n",
      "│   ├── └── site\n",
      "├── ├── Lib\n",
      "│   ├── └── site-packages\n",
      "├── ├── Scripts\n",
      "│   ├── ├── Activate.ps1\n",
      "│   ├── ├── __pycache__\n",
      "│   ├── ├── accelerate-config.exe\n",
      "│   ├── ├── accelerate-estimate-memory.exe\n",
      "│   ├── ├── accelerate-launch.exe\n",
      "│   ├── ├── accelerate-merge-weights.exe\n",
      "│   ├── ├── accelerate.exe\n",
      "│   ├── ├── activate\n",
      "│   ├── ├── activate.bat\n",
      "│   ├── ├── alembic.exe\n",
      "│   ├── ├── datasets-cli.exe\n",
      "│   ├── ├── deactivate.bat\n",
      "│   ├── ├── debugpy.exe\n",
      "│   ├── ├── f2py.exe\n",
      "│   ├── ├── fastapi.exe\n",
      "│   ├── ├── flask.exe\n",
      "│   ├── ├── fonttools.exe\n",
      "│   ├── ├── get_gprof\n",
      "│   ├── ├── get_objgraph\n",
      "│   ├── ├── huggingface-cli.exe\n",
      "│   ├── ├── import_pb_to_tensorboard.exe\n",
      "│   ├── ├── ipython.exe\n",
      "│   ├── ├── ipython3.exe\n",
      "│   ├── ├── isympy.exe\n",
      "│   ├── ├── jsonschema.exe\n",
      "│   ├── ├── jupyter-kernel.exe\n",
      "│   ├── ├── jupyter-kernelspec.exe\n",
      "│   ├── ├── jupyter-migrate.exe\n",
      "│   ├── ├── jupyter-run.exe\n",
      "│   ├── ├── jupyter-troubleshoot.exe\n",
      "│   ├── ├── jupyter.exe\n",
      "│   ├── ├── mako-render.exe\n",
      "│   ├── ├── markdown-it.exe\n",
      "│   ├── ├── markdown_py.exe\n",
      "│   ├── ├── mlflow.exe\n",
      "│   ├── ├── nltk.exe\n",
      "│   ├── ├── normalizer.exe\n",
      "│   ├── ├── optuna.exe\n",
      "│   ├── ├── pip.exe\n",
      "│   ├── ├── pip3.10.exe\n",
      "│   ├── ├── pip3.exe\n",
      "│   ├── ├── py.test.exe\n",
      "│   ├── ├── pybind11-config.exe\n",
      "│   ├── ├── pyftmerge.exe\n",
      "│   ├── ├── pyftsubset.exe\n",
      "│   ├── ├── pygmentize.exe\n",
      "│   ├── ├── pyrsa-decrypt.exe\n",
      "│   ├── ├── pyrsa-encrypt.exe\n",
      "│   ├── ├── pyrsa-keygen.exe\n",
      "│   ├── ├── pyrsa-priv2pub.exe\n",
      "│   ├── ├── pyrsa-sign.exe\n",
      "│   ├── ├── pyrsa-verify.exe\n",
      "│   ├── ├── pytest.exe\n",
      "│   ├── ├── python.exe\n",
      "│   ├── ├── pythonw.exe\n",
      "│   ├── ├── pywin32_postinstall.exe\n",
      "│   ├── ├── pywin32_postinstall.py\n",
      "│   ├── ├── pywin32_testall.exe\n",
      "│   ├── ├── pywin32_testall.py\n",
      "│   ├── ├── saved_model_cli.exe\n",
      "│   ├── ├── spacy.exe\n",
      "│   ├── ├── sqlformat.exe\n",
      "│   ├── ├── streamlit.cmd\n",
      "│   ├── ├── streamlit.exe\n",
      "│   ├── ├── tensorboard.exe\n",
      "│   ├── ├── tf_upgrade_v2.exe\n",
      "│   ├── ├── tflite_convert.exe\n",
      "│   ├── ├── toco.exe\n",
      "│   ├── ├── torchfrtrace.exe\n",
      "│   ├── ├── torchrun.exe\n",
      "│   ├── ├── tqdm.exe\n",
      "│   ├── ├── transformers-cli.exe\n",
      "│   ├── ├── ttx.exe\n",
      "│   ├── ├── typer.exe\n",
      "│   ├── ├── undill\n",
      "│   ├── ├── uvicorn.exe\n",
      "│   ├── ├── waitress-serve.exe\n",
      "│   ├── ├── watchmedo.exe\n",
      "│   ├── ├── weasel.exe\n",
      "│   ├── ├── wheel.exe\n",
      "│   ├── └── wordcloud_cli.exe\n",
      "├── ├── etc\n",
      "│   ├── └── jupyter\n",
      "├── ├── pyvenv.cfg\n",
      "├── └── share\n",
      "│   ├── ├── jupyter\n",
      "│   ├── └── man\n",
      "├── logs\n",
      "├── ├── events.out.tfevents.1741361244.PC-ARNAUD.37024.0\n",
      "├── ├── events.out.tfevents.1741362034.PC-ARNAUD.9628.0\n",
      "├── ├── events.out.tfevents.1741364804.PC-ARNAUD.38328.0\n",
      "├── ├── events.out.tfevents.1741507476.PC-ARNAUD.3024.0\n",
      "├── ├── events.out.tfevents.1741507646.PC-ARNAUD.3024.1\n",
      "├── ├── events.out.tfevents.1741513667.PC-ARNAUD.13340.0\n",
      "├── ├── events.out.tfevents.1741599815.PC-ARNAUD.27736.0\n",
      "├── ├── events.out.tfevents.1741603247.PC-ARNAUD.3852.0\n",
      "├── ├── events.out.tfevents.1741603852.PC-ARNAUD.24400.0\n",
      "├── ├── events.out.tfevents.1741604981.PC-ARNAUD.29024.0\n",
      "├── ├── events.out.tfevents.1741609885.PC-ARNAUD.30608.0\n",
      "├── ├── events.out.tfevents.1741633603.PC-ARNAUD.40828.0\n",
      "├── ├── events.out.tfevents.1741878760.PC-ARNAUD.26112.0\n",
      "├── ├── events.out.tfevents.1741896036.PC-ARNAUD.26288.0\n",
      "├── ├── events.out.tfevents.1741935846.PC-ARNAUD.7788.0\n",
      "├── ├── events.out.tfevents.1741941545.PC-ARNAUD.7788.2\n",
      "├── └── events.out.tfevents.1742199199.PC-ARNAUD.25320.0\n",
      "├── mlflow\n",
      "├── mlruns\n",
      "├── ├── .trash\n",
      "├── ├── 0\n",
      "│   ├── └── meta.yaml\n",
      "├── ├── 346150508169324204\n",
      "│   ├── ├── 00e43cb29f8249ec8f076ea3d033d64b\n",
      "│   ├── ├── 0191d09cf854410288c4f934edd954b6\n",
      "│   ├── ├── 087cb4ee78c44c90a7060877bc9a1a00\n",
      "│   ├── ├── 097ead8e6c2541468eac24c122ba256a\n",
      "│   ├── ├── 0bf3c15df44548bcb988cbfc663c77a5\n",
      "│   ├── ├── 0c0ccf0842e741dc91795ba65eabde1b\n",
      "│   ├── ├── 115ecce408f74631acf1fdfc038be9cc\n",
      "│   ├── ├── 14cddd3d526a429fabd781ce9fc9bba3\n",
      "│   ├── ├── 15c9b6194c0b4f4f8f3e47607edc3024\n",
      "│   ├── ├── 167075ef0ed34849a811bcce3e820e5c\n",
      "│   ├── ├── 177a0d15de244d29b2605ae4dd3f52a2\n",
      "│   ├── ├── 187cee206a4f4138be01aa7ccae170aa\n",
      "│   ├── ├── 1f030fbf09ef45a1810e20cb19557bcd\n",
      "│   ├── ├── 25f87cf10bb046e693ee4d6f378217db\n",
      "│   ├── ├── 2882c2f12df94d4c85bc51e9a4295c81\n",
      "│   ├── ├── 2d2176b5c66d4545b4c48e017bf1770f\n",
      "│   ├── ├── 2dd36a9b76ac4f01bea743d4778660c0\n",
      "│   ├── ├── 323eded7bd254b3eb15bc476dce45134\n",
      "│   ├── ├── 34868f32b5f64e889f381e04a194052c\n",
      "│   ├── ├── 36a293e27cfd4acdb6c2cfd627e9d65c\n",
      "│   ├── ├── 3705d5134f7642f180c23fba704ada67\n",
      "│   ├── ├── 372a094cec044c6e8863f116b5b4885f\n",
      "│   ├── ├── 3fa4b85f0b3a4f5687241b1e30376198\n",
      "│   ├── ├── 3fe79875b8044798ba18bc1b2d8e5376\n",
      "│   ├── ├── 440a61c24366437d928da3155fd9c66c\n",
      "│   ├── ├── 450a39f853a24629a8a82f0a5d8e0e3b\n",
      "│   ├── ├── 4e16a39f523647ffac66bc0623635112\n",
      "│   ├── ├── 58c423e69d9b4e608a93c01e7381bd7a\n",
      "│   ├── ├── 5a224634ce4e44ef8c4cc6576bcb88ad\n",
      "│   ├── ├── 5ea5a69518cf46748b7ca4e5ec205fbc\n",
      "│   ├── ├── 5f88422b1cda408aa123834dcf72537d\n",
      "│   ├── ├── 625600f37a7a4457a37058e1caf13596\n",
      "│   ├── ├── 630401461a9a4da7b3d7d17169779f3e\n",
      "│   ├── ├── 64c3bcebe869421f8a766738b902f17b\n",
      "│   ├── ├── 6578e7d6d14e486389e6c1e16698bd22\n",
      "│   ├── ├── 65cfe5146b084ea981b355291de74cf5\n",
      "│   ├── ├── 669a37334a0c4c73a535d6be46789262\n",
      "│   ├── ├── 66f99afe58d5482883a7f013a372b6ef\n",
      "│   ├── ├── 67e8115967e249a59a9c2c99558f108b\n",
      "│   ├── ├── 6b72a762926e49fe888cb312d81c4f0b\n",
      "│   ├── ├── 772a0244314d49a8ba852f6151dff80f\n",
      "│   ├── ├── 7838359c7f9f47d8b55ababa40b66a91\n",
      "│   ├── ├── 800fb893a1234687826aa4735af9a768\n",
      "│   ├── ├── 8299886229a7400fb1407cf5438e82b9\n",
      "│   ├── ├── 82d219f092994dafbd524b953057971f\n",
      "│   ├── ├── 861aa97d567a43bd9c771eeef8d0d53a\n",
      "│   ├── ├── 87db06734b3c4ac0887a4f5b23696ae6\n",
      "│   ├── ├── 8a74006e9c374b638d7f162dd5699e8f\n",
      "│   ├── ├── 8ac77cabf846462295b21055ac9519f6\n",
      "│   ├── ├── 8b596b8aa0df473ba66be7e643bbd093\n",
      "│   ├── ├── 8d12a61f6920445097d51470806a5c4e\n",
      "│   ├── ├── 8dbef0ff66e541c192980fd1bb5c0061\n",
      "│   ├── ├── 9480dc866f7f444e9785624770186248\n",
      "│   ├── ├── 9a28a60a64df4b3fb3ea49a74252f6a6\n",
      "│   ├── ├── 9a58116d4f4948949f409a68dbac0600\n",
      "│   ├── ├── a80d1c7f8438498e943433f8db824656\n",
      "│   ├── ├── a8a40bdeee72463c9e03dacb8c201f00\n",
      "│   ├── ├── add8569465e0474ca3ae05626191459a\n",
      "│   ├── ├── addd108373724db884802cafcfc11756\n",
      "│   ├── ├── b54127941f2042cf9657c749984288fc\n",
      "│   ├── ├── b88917a8f5a045f8a5ec3181f8bb30cb\n",
      "│   ├── ├── bc419681aa064e86adf4459675c25044\n",
      "│   ├── ├── bc51fb84388e4292891dc8b593ee18fb\n",
      "│   ├── ├── be083686d5a243e7b97627ad1003339c\n",
      "│   ├── ├── bebdb16c7199470781ec06099cc507db\n",
      "│   ├── ├── c48010d7ae734a7bb91547c577d1d5b6\n",
      "│   ├── ├── c5959de1090e41a3a772bb230a1dfcd2\n",
      "│   ├── ├── c83243581ec042ff8f160073c1e5b266\n",
      "│   ├── ├── d5cd650c3cfb4ed1a4040a3d1e8e1858\n",
      "│   ├── ├── d66ffb731d53494798c78aaff9be82a0\n",
      "│   ├── ├── d677d244771a4190bb8138c7108a8230\n",
      "│   ├── ├── d8897c0461494eb2b3de73f60f4d0805\n",
      "│   ├── ├── e2ae93cb79894c469d5922ef529e3994\n",
      "│   ├── ├── e3f115521ec141c6bbc8f9975ed79598\n",
      "│   ├── ├── e51b26d2f0bc496a95a59b094046128d\n",
      "│   ├── ├── e5b1fd3612ea4c1cb420aeed9207dd7b\n",
      "│   ├── ├── e81059f701484413997add01398e157c\n",
      "│   ├── ├── ea894616569549b8b1c43932a11783f9\n",
      "│   ├── ├── ec2bcadebdbc4e03bd8fbb39978f6a21\n",
      "│   ├── ├── eccc70bd81dc403e9bf0f8ba551a4e23\n",
      "│   ├── ├── edb143ed95ff4acbaa77c4361acbc534\n",
      "│   ├── ├── f5232656cab8426d822b3fca435ad0ea\n",
      "│   ├── ├── fafef51455b5494bba0bf5c0a6294f19\n",
      "│   ├── ├── fbee392b292f487ba3962297838a6c9a\n",
      "│   ├── ├── fe5d339bd9bf49da9d96c5404ba35dd2\n",
      "│   ├── ├── fe7cddd7deb540f5bf49537bf97c5a44\n",
      "│   ├── ├── ffbd87af5a994a6b9d85b77d5d940f61\n",
      "│   ├── └── meta.yaml\n",
      "├── ├── 968426534980835769\n",
      "│   ├── ├── 1329237b93dd47e090da19e60f2a878a\n",
      "│   ├── ├── 19b49ffd7a66413c8991142e9e234f1b\n",
      "│   ├── ├── 2ba474caab994b07981e91766235153e\n",
      "│   ├── ├── 3848bd05ed6042058089edcf7a65a7eb\n",
      "│   ├── ├── 526a5930fe8e4adda75d90b1c5c5e5d4\n",
      "│   ├── ├── 561f6cd87e8d44b3a5cc1c9d1f52169d\n",
      "│   ├── ├── 5ffd2a54717d4d219a30e9a4a01dc77e\n",
      "│   ├── ├── 62f851e843974fb1b9716f31cdbbdc1c\n",
      "│   ├── ├── 68f671da7f2d4ceb87907565acaf5133\n",
      "│   ├── ├── 97c2266a0af142b1963180447a97e078\n",
      "│   ├── ├── c0988c8bcbcb4411b1249e7e910727c1\n",
      "│   ├── ├── f0d05bc0e666476bb3ff6c114b1cc5ff\n",
      "│   ├── ├── fa586bd8b96e47a78444b2e091427151\n",
      "│   ├── └── meta.yaml\n",
      "├── └── models\n",
      "├── models\n",
      "├── models_saved\n",
      "├── ├── X_bow.pkl\n",
      "├── ├── X_fasttext.pkl\n",
      "├── ├── X_tfidf.pkl\n",
      "├── ├── X_use.pkl\n",
      "├── ├── cleaned_tweets.csv\n",
      "├── ├── cleaned_tweets.pkl\n",
      "├── ├── comparaison_resultats.csv\n",
      "├── ├── cosine_similarity.npy\n",
      "├── ├── distilbert_dataset.pkl\n",
      "├── ├── distilbert_eval_results.pkl\n",
      "├── ├── distilbert_model\n",
      "│   ├── ├── config.json\n",
      "│   ├── └── model.safetensors\n",
      "├── ├── distilbert_output\n",
      "│   ├── └── checkpoint-10000\n",
      "├── ├── distilbert_results\n",
      "│   ├── └── checkpoint-32\n",
      "├── ├── lgbm_model.txt\n",
      "├── ├── log_reg_model.pkl\n",
      "├── ├── logs\n",
      "│   ├── └── events.out.tfevents.1742585200.PC-ARNAUD.7580.0\n",
      "├── ├── lstm_eval_simulation.pkl\n",
      "├── ├── lstm_model.h5\n",
      "├── ├── rf_model.pkl\n",
      "├── ├── tfidf_split_data.joblib\n",
      "├── ├── tokenized_distilbert_dataset\n",
      "│   ├── ├── cache-059f415fcf7ec275.arrow\n",
      "│   ├── ├── cache-388242d5857d9225.arrow\n",
      "│   ├── ├── cache-5dad8f755988a725.arrow\n",
      "│   ├── ├── cache-8d855fc150f7f7df.arrow\n",
      "│   ├── ├── cache-bae1381f4bcffb88.arrow\n",
      "│   ├── ├── data-00000-of-00001.arrow\n",
      "│   ├── ├── dataset_info.json\n",
      "│   ├── └── state.json\n",
      "├── ├── tweets_fasttext.txt\n",
      "├── ├── vader_scores.pkl\n",
      "├── └── y_use.pkl\n",
      "├── notebooks\n",
      "├── ├── 01_full_pipeline_modeling.ipynb\n",
      "├── ├── P7_main_notebook.ipynb\n",
      "├── ├── mlflow.db\n",
      "├── ├── mlflow_registry_management.ipynb\n",
      "├── └── mlruns\n",
      "│   ├── ├── .trash\n",
      "│   ├── ├── 0\n",
      "│   ├── ├── 2\n",
      "│   ├── ├── 292174995977425744\n",
      "│   ├── ├── 906586012259731436\n",
      "│   ├── └── models\n",
      "├── requirements.txt\n",
      "├── runs.csv\n",
      "├── scripts\n",
      "├── └── launch_mlflow_server.bat\n",
      "├── src\n",
      "├── ├── __init__.py\n",
      "├── ├── __pycache__\n",
      "│   ├── ├── __init__.cpython-310.pyc\n",
      "│   ├── ├── data_preprocessing.cpython-310.pyc\n",
      "│   ├── ├── evaluate.cpython-310.pyc\n",
      "│   ├── ├── model_training.cpython-310.pyc\n",
      "│   ├── ├── requirements.cpython-310.pyc\n",
      "│   ├── └── utils.cpython-310.pyc\n",
      "├── ├── api\n",
      "│   ├── ├── .dockerignore\n",
      "│   ├── ├── .env\n",
      "│   ├── ├── .gitignore\n",
      "│   ├── ├── Dockerfile\n",
      "│   ├── ├── README.md\n",
      "│   ├── ├── __init__.py\n",
      "│   ├── ├── api.py\n",
      "│   ├── └── requirements.txt\n",
      "├── ├── data_preprocessing.py\n",
      "├── ├── evaluate.py\n",
      "├── ├── functions.py\n",
      "├── ├── model_training.py\n",
      "├── ├── requirements.py\n",
      "├── ├── requirements.txt\n",
      "├── └── utils.py\n",
      "├── tests\n",
      "├── └── test_api.py\n",
      "├── tmp_trainer\n",
      "├── └── runs\n",
      "│   ├── ├── Mar09_09-21-52_PC-ARNAUD\n",
      "│   ├── ├── Mar09_09-24-51_PC-ARNAUD\n",
      "│   ├── ├── Mar09_09-27-31_PC-ARNAUD\n",
      "│   ├── ├── Mar09_11-01-49_PC-ARNAUD\n",
      "│   ├── ├── Mar09_11-02-09_PC-ARNAUD\n",
      "│   ├── ├── Mar09_13-19-55_PC-ARNAUD\n",
      "│   ├── ├── Mar09_23-28-08_PC-ARNAUD\n",
      "│   ├── ├── Mar10_10-59-56_PC-ARNAUD\n",
      "│   ├── ├── Mar10_11-01-33_PC-ARNAUD\n",
      "│   ├── ├── Mar10_12-18-38_PC-ARNAUD\n",
      "│   ├── ├── Mar10_13-37-45_PC-ARNAUD\n",
      "│   ├── ├── Mar10_13-37-53_PC-ARNAUD\n",
      "│   ├── ├── Mar10_20-18-27_PC-ARNAUD\n",
      "│   ├── ├── Mar13_16-22-39_PC-ARNAUD\n",
      "│   ├── ├── Mar13_21-10-15_PC-ARNAUD\n",
      "│   ├── ├── Mar13_21-10-22_PC-ARNAUD\n",
      "│   ├── └── Mar14_08-13-58_PC-ARNAUD\n",
      "└── tokenized_distilbert_dataset\n",
      "├── ├── cache-4fd5ed254c63e60d.arrow\n",
      "├── ├── cache-59508564038c63f4.arrow\n",
      "├── ├── cache-93488f2cd6523051.arrow\n",
      "├── ├── cache-b4c7a2967748401c.arrow\n",
      "├── ├── cache-bb6997e2954fe2b5.arrow\n",
      "├── ├── data-00000-of-00001.arrow\n",
      "├── ├── dataset_info.json\n",
      "├── └── state.json\n"
     ]
    }
   ],
   "source": [
    "utils.afficher_structure_dossier(\"..\", max_niveaux = 2)"
   ]
  },
  {
   "cell_type": "markdown",
   "metadata": {},
   "source": [
    "## 1.3 - Chargement des données"
   ]
  },
  {
   "cell_type": "code",
   "execution_count": 29,
   "metadata": {},
   "outputs": [
    {
     "name": "stdout",
     "output_type": "stream",
     "text": [
      "📂 Répertoire courant : c:\\Users\\motar\\Desktop\\1-openclassrooms\\AI_Engineer\\1-projets\\P07\\P7_sentiment_MLOps\\notebooks\n"
     ]
    }
   ],
   "source": [
    "print(f\"📂 Répertoire courant : {os.getcwd()}\")"
   ]
  },
  {
   "cell_type": "code",
   "execution_count": 5,
   "metadata": {},
   "outputs": [
    {
     "name": "stdout",
     "output_type": "stream",
     "text": [
      "✅ Dataset chargé avec succès !\n"
     ]
    }
   ],
   "source": [
    "data_path = \"../data/tweets.csv\"\n",
    "if os.path.exists(data_path):\n",
    "    tweets = pd.read_csv(data_path, encoding = \"ISO-8859-1\")\n",
    "    print(\"✅ Dataset chargé avec succès !\")\n",
    "else:\n",
    "    print(\"❌ Le fichier tweets.csv est introuvable.\")"
   ]
  },
  {
   "cell_type": "markdown",
   "metadata": {},
   "source": [
    "# 2 - Exploration & nettoyage\n",
    "## 2.1 - Nettoyage initial"
   ]
  },
  {
   "cell_type": "code",
   "execution_count": 6,
   "metadata": {},
   "outputs": [
    {
     "name": "stdout",
     "output_type": "stream",
     "text": [
      "<class 'pandas.core.frame.DataFrame'>\n",
      "RangeIndex: 1599999 entries, 0 to 1599998\n",
      "Data columns (total 6 columns):\n",
      " #   Column                                                                                                               Non-Null Count    Dtype \n",
      "---  ------                                                                                                               --------------    ----- \n",
      " 0   0                                                                                                                    1599999 non-null  int64 \n",
      " 1   1467810369                                                                                                           1599999 non-null  int64 \n",
      " 2   Mon Apr 06 22:19:45 PDT 2009                                                                                         1599999 non-null  object\n",
      " 3   NO_QUERY                                                                                                             1599999 non-null  object\n",
      " 4   _TheSpecialOne_                                                                                                      1599999 non-null  object\n",
      " 5   @switchfoot http://twitpic.com/2y1zl - Awww, that's a bummer.  You shoulda got David Carr of Third Day to do it. ;D  1599999 non-null  object\n",
      "dtypes: int64(2), object(4)\n",
      "memory usage: 73.2+ MB\n",
      "None\n"
     ]
    }
   ],
   "source": [
    "print(tweets.info())"
   ]
  },
  {
   "cell_type": "code",
   "execution_count": 7,
   "metadata": {},
   "outputs": [],
   "source": [
    "# Renommage des colonnes\n",
    "tweets.columns = [\"label\", \"id\", \"date\", \"query\", \"user\", \"text\"]"
   ]
  },
  {
   "cell_type": "code",
   "execution_count": 8,
   "metadata": {},
   "outputs": [],
   "source": [
    "# Suppression des colonnes inutiles\n",
    "tweets = tweets.drop(columns=[\"id\", \"date\", \"query\", \"user\"])"
   ]
  },
  {
   "cell_type": "code",
   "execution_count": 9,
   "metadata": {},
   "outputs": [],
   "source": [
    "# Conversion des labels (0 et 4 → 0 et 1)\n",
    "tweets['label'] = tweets['label'].map({0: 0, 4: 1})"
   ]
  },
  {
   "cell_type": "markdown",
   "metadata": {},
   "source": [
    "## 2.2 - Suppression des doublons sur la colonne \"text\""
   ]
  },
  {
   "cell_type": "code",
   "execution_count": 10,
   "metadata": {},
   "outputs": [
    {
     "name": "stdout",
     "output_type": "stream",
     "text": [
      "✅ Suppression des doublons effectuée : 18534 doublons supprimés.\n"
     ]
    }
   ],
   "source": [
    "before = len(tweets)\n",
    "tweets = tweets.drop_duplicates(subset = [\"text\"], keep = \"first\").reset_index(drop = True)\n",
    "after = len(tweets)\n",
    "print(f\"✅ Suppression des doublons effectuée : {before - after} doublons supprimés.\")\n",
    "tweets = tweets.reset_index(drop = True)"
   ]
  },
  {
   "cell_type": "markdown",
   "metadata": {},
   "source": [
    "## 2.3 - Nettoyage avancé"
   ]
  },
  {
   "cell_type": "code",
   "execution_count": 11,
   "metadata": {},
   "outputs": [
    {
     "name": "stdout",
     "output_type": "stream",
     "text": [
      "✅ Chargement des tweets nettoyés depuis ../models_saved/cleaned_tweets.pkl\n"
     ]
    }
   ],
   "source": [
    "tweets_cleaned = dp.preprocess_tweets_parallel(tweets)"
   ]
  },
  {
   "cell_type": "markdown",
   "metadata": {},
   "source": [
    "# 3 - Vader scoring"
   ]
  },
  {
   "cell_type": "code",
   "execution_count": 12,
   "metadata": {},
   "outputs": [
    {
     "name": "stdout",
     "output_type": "stream",
     "text": [
      "🚀 Nouveau run démarré : 25408b5da0bf4d2abf61c76d668a4242\n",
      "✅ Scores VADER chargés depuis ../models_saved/vader_scores.pkl...\n",
      "\n",
      "📊 Rapport de classification VADER :\n",
      "              precision    recall  f1-score   support\n",
      "\n",
      "           0       0.81      0.43      0.56    790184\n",
      "           1       0.61      0.90      0.73    791281\n",
      "\n",
      "    accuracy                           0.67   1581465\n",
      "   macro avg       0.71      0.67      0.65   1581465\n",
      "weighted avg       0.71      0.67      0.65   1581465\n",
      "\n",
      "🏃 View run angry-sponge-531 at: http://127.0.0.1:5000/#/experiments/2/runs/25408b5da0bf4d2abf61c76d668a4242\n",
      "🧪 View experiment at: http://127.0.0.1:5000/#/experiments/2\n",
      "✅ Run terminé.\n"
     ]
    }
   ],
   "source": [
    "vader_scores = dp.compute_vader_scores(tweets_cleaned)"
   ]
  },
  {
   "cell_type": "markdown",
   "metadata": {},
   "source": [
    "# 4 - Vectorisation des tweets"
   ]
  },
  {
   "cell_type": "code",
   "execution_count": 13,
   "metadata": {},
   "outputs": [
    {
     "name": "stdout",
     "output_type": "stream",
     "text": [
      "🚀 Nouveau run démarré : 5ea74191968b4be5be3e5dfc5f50030a\n",
      "📂 Chargement des matrices vectorisées existantes...\n",
      "🏃 View run delightful-gnat-677 at: http://127.0.0.1:5000/#/experiments/2/runs/5ea74191968b4be5be3e5dfc5f50030a\n",
      "🧪 View experiment at: http://127.0.0.1:5000/#/experiments/2\n",
      "✅ Run terminé.\n"
     ]
    }
   ],
   "source": [
    "sample_size = 15000  # Taille échantillon USE (modifiable)\n",
    "\n",
    "tweets_sampled = tweets_cleaned.sample(n = sample_size, random_state = 70).reset_index(drop = True)\n",
    "\n",
    "X_bow, X_tfidf, X_fasttext, X_use, y_use = dp.vectorize_and_save(\n",
    "    tweets_cleaned['text'], tweets_sampled['text'],\n",
    "    tweets_cleaned['label'], tweets_sampled['label']\n",
    ")"
   ]
  },
  {
   "cell_type": "markdown",
   "metadata": {},
   "source": [
    "# 5 - Modélisation Classique (TF-IDF + Régression Logistique) - 2 min 08"
   ]
  },
  {
   "cell_type": "code",
   "execution_count": 14,
   "metadata": {},
   "outputs": [
    {
     "name": "stdout",
     "output_type": "stream",
     "text": [
      "🚀 Nouveau run démarré : 683fbe2ec6bc437996f43166e936a757\n",
      "✅ Modèle Régression Logistique déjà existant. Chargement...\n",
      "🏃 View run trusting-colt-544 at: http://127.0.0.1:5000/#/experiments/2/runs/683fbe2ec6bc437996f43166e936a757\n",
      "🧪 View experiment at: http://127.0.0.1:5000/#/experiments/2\n",
      "✅ Run terminé.\n"
     ]
    }
   ],
   "source": [
    "X_tfidf_train, X_tfidf_test, y_train, y_test = train_test_split(\n",
    "    X_tfidf, tweets_cleaned['label'], test_size = 0.2, random_state = 70, stratify=tweets_cleaned['label']\n",
    ")\n",
    "log_reg_model = mt.train_logistic_regression_with_cv(X_tfidf_train, y_train)\n",
    "# log_reg_model = mt.train_logistic_regression_with_cv(X_tfidf_train, y_train, force_retrain = True)"
   ]
  },
  {
   "cell_type": "markdown",
   "metadata": {},
   "source": [
    "# 6 - Modèles Avancés (Random Forest / LightGBM / LSTM)\n",
    "## 6.1 - FastText + Random Forest - 4 min 51"
   ]
  },
  {
   "cell_type": "code",
   "execution_count": 15,
   "metadata": {},
   "outputs": [
    {
     "name": "stdout",
     "output_type": "stream",
     "text": [
      "🚀 Nouveau run démarré : 580df829b5b64787ad0cca942dcf01f4\n",
      "✅ Modèle RandomForest sauvegardé sous ../models_saved/rf_model.pkl\n"
     ]
    },
    {
     "name": "stderr",
     "output_type": "stream",
     "text": [
      "2025/03/23 18:42:10 WARNING mlflow.models.model: Model logged without a signature and input example. Please set `input_example` parameter when logging the model to auto infer the model signature.\n",
      "Registered model 'sentiment_model_rf' already exists. Creating a new version of this model...\n",
      "2025/03/23 18:42:10 INFO mlflow.store.model_registry.abstract_store: Waiting up to 300 seconds for model version to finish creation. Model name: sentiment_model_rf, version 2\n",
      "Created version '2' of model 'sentiment_model_rf'.\n"
     ]
    },
    {
     "name": "stdout",
     "output_type": "stream",
     "text": [
      "🏃 View run capricious-yak-922 at: http://127.0.0.1:5000/#/experiments/2/runs/580df829b5b64787ad0cca942dcf01f4\n",
      "🧪 View experiment at: http://127.0.0.1:5000/#/experiments/2\n",
      "🚀 Nouveau run démarré : 6b5aca53e12443caa710d2dc90897852\n",
      "\n",
      "⏱️ [RandomForest] - Fin : 264.21 sec | CPU: 5.0% | RAM: 35.7%\n",
      "🏃 View run able-cow-837 at: http://127.0.0.1:5000/#/experiments/2/runs/6b5aca53e12443caa710d2dc90897852\n",
      "🧪 View experiment at: http://127.0.0.1:5000/#/experiments/2\n",
      "✅ Run terminé.\n",
      "✅ Run terminé.\n"
     ]
    }
   ],
   "source": [
    "X_ft_train, X_ft_test, y_train, y_test = train_test_split(\n",
    "    X_fasttext, tweets_cleaned['label'], test_size = 0.2, random_state = 70, stratify = tweets_cleaned['label']\n",
    ")\n",
    "# rf_model = mt.train_random_forest(X_ft_train, y_train)\n",
    "rf_model = mt.train_random_forest(X_ft_train, y_train, force_retrain = True)"
   ]
  },
  {
   "cell_type": "markdown",
   "metadata": {},
   "source": [
    "## 6.2 - FastText + LSTM - 7 min 44"
   ]
  },
  {
   "cell_type": "code",
   "execution_count": 16,
   "metadata": {},
   "outputs": [
    {
     "name": "stdout",
     "output_type": "stream",
     "text": [
      "🚀 Nouveau run démarré : e024b6eb62bb4c7fbeb0d83924c175d5\n"
     ]
    },
    {
     "name": "stderr",
     "output_type": "stream",
     "text": [
      "WARNING:absl:Compiled the loaded model, but the compiled metrics have yet to be built. `model.compile_metrics` will be empty until you train or evaluate the model.\n"
     ]
    },
    {
     "name": "stdout",
     "output_type": "stream",
     "text": [
      "✅ Modèle LSTM déjà existant. Chargement...\n",
      "🏃 View run bright-shad-257 at: http://127.0.0.1:5000/#/experiments/2/runs/e024b6eb62bb4c7fbeb0d83924c175d5\n",
      "🧪 View experiment at: http://127.0.0.1:5000/#/experiments/2\n",
      "✅ Run terminé.\n"
     ]
    }
   ],
   "source": [
    "lstm_model, (X_ft_test_reshaped, y_ft_test), history = mt.train_lstm_model(X_fasttext, tweets_cleaned['label'])\n",
    "# lstm_model, (X_ft_test_reshaped, y_ft_test), history = mt.train_lstm_model(X_fasttext, tweets_cleaned['label'], force_retrain = True)"
   ]
  },
  {
   "cell_type": "markdown",
   "metadata": {},
   "source": [
    "## 6.3 - USE + LightGBM"
   ]
  },
  {
   "cell_type": "code",
   "execution_count": 17,
   "metadata": {},
   "outputs": [
    {
     "name": "stdout",
     "output_type": "stream",
     "text": [
      "🚀 Nouveau run démarré : 40828b4950534a8da7c565eec6b94e64\n",
      "✅ Modèle LightGBM existant. Chargement...\n",
      "🏃 View run marvelous-wasp-280 at: http://127.0.0.1:5000/#/experiments/2/runs/40828b4950534a8da7c565eec6b94e64\n",
      "🧪 View experiment at: http://127.0.0.1:5000/#/experiments/2\n",
      "✅ Run terminé.\n"
     ]
    }
   ],
   "source": [
    "X_use_train, X_use_test, y_use_train, y_use_test = train_test_split(\n",
    "    X_use, y_use, test_size = 0.2, random_state = 70, stratify = y_use\n",
    ")\n",
    "lgbm_model = mt.train_lightgbm(X_use_train, y_use_train, X_use_test, y_use_test)\n",
    "# lgbm_model = mt.train_lightgbm(X_use_train, y_use_train, X_use_test, y_use_test, force_retrain = True)"
   ]
  },
  {
   "cell_type": "markdown",
   "metadata": {},
   "source": [
    "## 6.4 - DistilBERT\n",
    "### 6.4.1 - Préparation"
   ]
  },
  {
   "cell_type": "code",
   "execution_count": 18,
   "metadata": {},
   "outputs": [
    {
     "name": "stdout",
     "output_type": "stream",
     "text": [
      "🚀 Nouveau run démarré : 7a5ac46425d44943afe694bfb6ca161e\n",
      "✅ Dataset DistilBERT existant. Chargement...\n",
      "🏃 View run marvelous-carp-627 at: http://127.0.0.1:5000/#/experiments/2/runs/7a5ac46425d44943afe694bfb6ca161e\n",
      "🧪 View experiment at: http://127.0.0.1:5000/#/experiments/2\n",
      "✅ Run terminé.\n",
      "🚀 Nouveau run démarré : 95a38fe9c5f84373ae6ded94036ee17a\n",
      "✅ Tokenized dataset déjà existant. Chargement depuis ../models_saved/tokenized_distilbert_dataset...\n",
      "🏃 View run incongruous-flea-322 at: http://127.0.0.1:5000/#/experiments/2/runs/95a38fe9c5f84373ae6ded94036ee17a\n",
      "🧪 View experiment at: http://127.0.0.1:5000/#/experiments/2\n",
      "✅ Run terminé.\n"
     ]
    }
   ],
   "source": [
    "df_sample = dp.prepare_distilbert_dataset(tweets_cleaned)\n",
    "tokenized = dp.tokenize_distilbert_dataset(df_sample)"
   ]
  },
  {
   "cell_type": "markdown",
   "metadata": {},
   "source": [
    "### 6.2.2 - Fine-tuning "
   ]
  },
  {
   "cell_type": "code",
   "execution_count": null,
   "metadata": {},
   "outputs": [
    {
     "name": "stdout",
     "output_type": "stream",
     "text": [
      "🚀 Nouveau run démarré : 72f73d808523428ead17d9c95c80b0ba\n",
      "🚀 Fine-tuning DistilBERT...\n"
     ]
    },
    {
     "name": "stderr",
     "output_type": "stream",
     "text": [
      "Some weights of DistilBertForSequenceClassification were not initialized from the model checkpoint at distilbert-base-uncased and are newly initialized: ['classifier.bias', 'classifier.weight', 'pre_classifier.bias', 'pre_classifier.weight']\n",
      "You should probably TRAIN this model on a down-stream task to be able to use it for predictions and inference.\n",
      "c:\\Users\\motar\\Desktop\\1-openclassrooms\\AI_Engineer\\1-projets\\P07\\P7_sentiment_MLOps\\env_p7_MLOps\\lib\\site-packages\\transformers\\training_args.py:1594: FutureWarning: `evaluation_strategy` is deprecated and will be removed in version 4.46 of 🤗 Transformers. Use `eval_strategy` instead\n",
      "  warnings.warn(\n"
     ]
    },
    {
     "data": {
      "text/html": [
       "\n",
       "    <div>\n",
       "      \n",
       "      <progress value='15000' max='15000' style='width:300px; height:20px; vertical-align: middle;'></progress>\n",
       "      [15000/15000 7:43:10, Epoch 3/3]\n",
       "    </div>\n",
       "    <table border=\"1\" class=\"dataframe\">\n",
       "  <thead>\n",
       " <tr style=\"text-align: left;\">\n",
       "      <th>Epoch</th>\n",
       "      <th>Training Loss</th>\n",
       "      <th>Validation Loss</th>\n",
       "      <th>Accuracy</th>\n",
       "      <th>F1</th>\n",
       "    </tr>\n",
       "  </thead>\n",
       "  <tbody>\n",
       "    <tr>\n",
       "      <td>1</td>\n",
       "      <td>0.472200</td>\n",
       "      <td>0.477978</td>\n",
       "      <td>0.771550</td>\n",
       "      <td>0.770828</td>\n",
       "    </tr>\n",
       "    <tr>\n",
       "      <td>2</td>\n",
       "      <td>0.381400</td>\n",
       "      <td>0.494545</td>\n",
       "      <td>0.778650</td>\n",
       "      <td>0.779587</td>\n",
       "    </tr>\n",
       "    <tr>\n",
       "      <td>3</td>\n",
       "      <td>0.335900</td>\n",
       "      <td>0.535478</td>\n",
       "      <td>0.771600</td>\n",
       "      <td>0.770936</td>\n",
       "    </tr>\n",
       "  </tbody>\n",
       "</table><p>"
      ],
      "text/plain": [
       "<IPython.core.display.HTML object>"
      ]
     },
     "metadata": {},
     "output_type": "display_data"
    },
    {
     "name": "stdout",
     "output_type": "stream",
     "text": [
      "✅ Modèle DistilBERT sauvegardé sous ../models_saved/distilbert_model\n"
     ]
    },
    {
     "name": "stderr",
     "output_type": "stream",
     "text": [
      "2025/03/24 02:25:46 WARNING mlflow.models.model: Model logged without a signature and input example. Please set `input_example` parameter when logging the model to auto infer the model signature.\n",
      "Successfully registered model 'sentiment_model_distilbert'.\n",
      "2025/03/24 02:25:46 INFO mlflow.store.model_registry.abstract_store: Waiting up to 300 seconds for model version to finish creation. Model name: sentiment_model_distilbert, version 1\n",
      "Created version '1' of model 'sentiment_model_distilbert'.\n"
     ]
    },
    {
     "name": "stdout",
     "output_type": "stream",
     "text": [
      "🏃 View run intelligent-crab-237 at: http://127.0.0.1:5000/#/experiments/2/runs/72f73d808523428ead17d9c95c80b0ba\n",
      "🧪 View experiment at: http://127.0.0.1:5000/#/experiments/2\n",
      "✅ Run terminé.\n"
     ]
    }
   ],
   "source": [
    "model, trainer, _ = mt.train_distilbert_model(tokenized)\n",
    "# model, trainer, _ = mt.train_distilbert_model(tokenized, force_retrain = True)"
   ]
  },
  {
   "cell_type": "markdown",
   "metadata": {},
   "source": [
    "# 7 - Evaluation"
   ]
  },
  {
   "cell_type": "code",
   "execution_count": 20,
   "metadata": {},
   "outputs": [
    {
     "name": "stdout",
     "output_type": "stream",
     "text": [
      "🚀 Nouveau run démarré : e808d11707d64fb3aad6d6ecf39aad27\n",
      "✅ Résultats d'évaluation déjà disponibles. Chargement...\n",
      "\n",
      "📊 Rapport DistilBERT :\n",
      "              precision    recall  f1-score   support\n",
      "\n",
      "           0       0.85      0.84      0.84     10038\n",
      "           1       0.84      0.85      0.84      9962\n",
      "\n",
      "    accuracy                           0.84     20000\n",
      "   macro avg       0.84      0.84      0.84     20000\n",
      "weighted avg       0.84      0.84      0.84     20000\n",
      "\n",
      "🏃 View run awesome-conch-89 at: http://127.0.0.1:5000/#/experiments/2/runs/e808d11707d64fb3aad6d6ecf39aad27\n",
      "🧪 View experiment at: http://127.0.0.1:5000/#/experiments/2\n",
      "✅ Run terminé.\n"
     ]
    }
   ],
   "source": [
    "distilbert_acc, distilbert_f1 = ev.evaluate_distilbert_model(model, tokenized)"
   ]
  },
  {
   "cell_type": "markdown",
   "metadata": {},
   "source": [
    "# 8 - Comparaison finale des modèles"
   ]
  },
  {
   "cell_type": "code",
   "execution_count": 21,
   "metadata": {},
   "outputs": [],
   "source": [
    "models_dict = {\n",
    "    'logreg': log_reg_model,\n",
    "    'rf': rf_model,\n",
    "    'lstm': lstm_model,\n",
    "    'lgbm': lgbm_model,\n",
    "    'distilbert_metrics': {\n",
    "        'accuracy': distilbert_acc,\n",
    "        'f1': distilbert_f1\n",
    "    }\n",
    "}\n",
    "\n",
    "datasets_dict = {\n",
    "    'tfidf': {'X_test': X_tfidf_test, 'y_test': y_test},\n",
    "    'fasttext': {'X_test': X_ft_test, 'y_test': y_test},\n",
    "    'lstm': (X_ft_test_reshaped, y_ft_test),\n",
    "    'use': {'X_test': X_use_test, 'y_test': y_use_test}\n",
    "}"
   ]
  },
  {
   "cell_type": "code",
   "execution_count": 22,
   "metadata": {},
   "outputs": [
    {
     "name": "stdout",
     "output_type": "stream",
     "text": [
      "🚀 Nouveau run démarré : 77d2527118e246789f301b92af2cda6b\n",
      "\n",
      "📊 Résultats pour : logreg\n",
      "              precision    recall  f1-score   support\n",
      "\n",
      "           0       0.77      0.72      0.75    158037\n",
      "           1       0.74      0.79      0.76    158256\n",
      "\n",
      "    accuracy                           0.76    316293\n",
      "   macro avg       0.76      0.76      0.76    316293\n",
      "weighted avg       0.76      0.76      0.76    316293\n",
      "\n"
     ]
    },
    {
     "data": {
      "image/png": "[encoded data removed]",
      "text/plain": [
       "<Figure size 600x600 with 2 Axes>"
      ]
     },
     "metadata": {},
     "output_type": "display_data"
    },
    {
     "name": "stdout",
     "output_type": "stream",
     "text": [
      "\n",
      "📊 Résultats pour : rf\n",
      "              precision    recall  f1-score   support\n",
      "\n",
      "           0       0.73      0.75      0.74    158037\n",
      "           1       0.74      0.72      0.73    158256\n",
      "\n",
      "    accuracy                           0.73    316293\n",
      "   macro avg       0.73      0.73      0.73    316293\n",
      "weighted avg       0.73      0.73      0.73    316293\n",
      "\n"
     ]
    },
    {
     "data": {
      "image/png": "[encoded data removed]",
      "text/plain": [
       "<Figure size 600x600 with 2 Axes>"
      ]
     },
     "metadata": {},
     "output_type": "display_data"
    },
    {
     "name": "stdout",
     "output_type": "stream",
     "text": [
      "\u001b[1m9885/9885\u001b[0m \u001b[32m━━━━━━━━━━━━━━━━━━━━\u001b[0m\u001b[37m\u001b[0m \u001b[1m9s\u001b[0m 845us/step\n",
      "\n",
      "📊 Résultats pour : lstm\n",
      "              precision    recall  f1-score   support\n",
      "\n",
      "           0       0.77      0.78      0.78    158037\n",
      "           1       0.78      0.77      0.77    158256\n",
      "\n",
      "    accuracy                           0.78    316293\n",
      "   macro avg       0.78      0.78      0.78    316293\n",
      "weighted avg       0.78      0.78      0.78    316293\n",
      "\n"
     ]
    },
    {
     "data": {
      "image/png": "[encoded data removed]",
      "text/plain": [
       "<Figure size 600x600 with 2 Axes>"
      ]
     },
     "metadata": {},
     "output_type": "display_data"
    },
    {
     "name": "stdout",
     "output_type": "stream",
     "text": [
      "\n",
      "📊 Résultats pour : lgbm\n",
      "              precision    recall  f1-score   support\n",
      "\n",
      "           0       0.72      0.71      0.71      1505\n",
      "           1       0.71      0.72      0.72      1495\n",
      "\n",
      "    accuracy                           0.72      3000\n",
      "   macro avg       0.72      0.72      0.72      3000\n",
      "weighted avg       0.72      0.72      0.72      3000\n",
      "\n"
     ]
    },
    {
     "data": {
      "image/png": "[encoded data removed]",
      "text/plain": [
       "<Figure size 600x600 with 2 Axes>"
      ]
     },
     "metadata": {},
     "output_type": "display_data"
    },
    {
     "name": "stdout",
     "output_type": "stream",
     "text": [
      "\n",
      "📊 Comparaison finale des modèles :\n"
     ]
    },
    {
     "data": {
      "text/html": [
       "<div>\n",
       "<style scoped>\n",
       "    .dataframe tbody tr th:only-of-type {\n",
       "        vertical-align: middle;\n",
       "    }\n",
       "\n",
       "    .dataframe tbody tr th {\n",
       "        vertical-align: top;\n",
       "    }\n",
       "\n",
       "    .dataframe thead th {\n",
       "        text-align: right;\n",
       "    }\n",
       "</style>\n",
       "<table border=\"1\" class=\"dataframe\">\n",
       "  <thead>\n",
       "    <tr style=\"text-align: right;\">\n",
       "      <th></th>\n",
       "      <th>Modèle</th>\n",
       "      <th>Accuracy</th>\n",
       "      <th>F1-score</th>\n",
       "    </tr>\n",
       "  </thead>\n",
       "  <tbody>\n",
       "    <tr>\n",
       "      <th>0</th>\n",
       "      <td>logreg</td>\n",
       "      <td>0.7560</td>\n",
       "      <td>0.7638</td>\n",
       "    </tr>\n",
       "    <tr>\n",
       "      <th>1</th>\n",
       "      <td>rf</td>\n",
       "      <td>0.7328</td>\n",
       "      <td>0.7295</td>\n",
       "    </tr>\n",
       "    <tr>\n",
       "      <th>2</th>\n",
       "      <td>lstm</td>\n",
       "      <td>0.7755</td>\n",
       "      <td>0.7741</td>\n",
       "    </tr>\n",
       "    <tr>\n",
       "      <th>3</th>\n",
       "      <td>lgbm</td>\n",
       "      <td>0.7153</td>\n",
       "      <td>0.7159</td>\n",
       "    </tr>\n",
       "    <tr>\n",
       "      <th>4</th>\n",
       "      <td>DistilBERT fine-tuné</td>\n",
       "      <td>0.8423</td>\n",
       "      <td>0.8427</td>\n",
       "    </tr>\n",
       "  </tbody>\n",
       "</table>\n",
       "</div>"
      ],
      "text/plain": [
       "                 Modèle  Accuracy  F1-score\n",
       "0                logreg    0.7560    0.7638\n",
       "1                    rf    0.7328    0.7295\n",
       "2                  lstm    0.7755    0.7741\n",
       "3                  lgbm    0.7153    0.7159\n",
       "4  DistilBERT fine-tuné    0.8423    0.8427"
      ]
     },
     "metadata": {},
     "output_type": "display_data"
    },
    {
     "name": "stdout",
     "output_type": "stream",
     "text": [
      "🏃 View run rambunctious-hog-153 at: http://127.0.0.1:5000/#/experiments/2/runs/77d2527118e246789f301b92af2cda6b\n",
      "🧪 View experiment at: http://127.0.0.1:5000/#/experiments/2\n",
      "✅ Run terminé.\n"
     ]
    }
   ],
   "source": [
    "df_results = ev.get_all_model_scores(models_dict, datasets_dict)"
   ]
  },
  {
   "cell_type": "markdown",
   "metadata": {},
   "source": [
    "# 9 - Tracking MLFlow"
   ]
  },
  {
   "cell_type": "code",
   "execution_count": 23,
   "metadata": {},
   "outputs": [
    {
     "name": "stdout",
     "output_type": "stream",
     "text": [
      "🏃 View run Logistic Regression final metrics at: http://127.0.0.1:5000/#/experiments/2/runs/9d8ff2d495184dda91f27c1192ada943\n",
      "🧪 View experiment at: http://127.0.0.1:5000/#/experiments/2\n"
     ]
    }
   ],
   "source": [
    "y_pred = log_reg_model.predict(X_tfidf_test)\n",
    "with mlflow.start_run(run_name=\"Logistic Regression final metrics\"):\n",
    "    mlflow.log_param(\"model\", \"Logistic Regression\")\n",
    "    mlflow.log_metric(\"accuracy\", accuracy_score(y_test, y_pred))\n",
    "    mlflow.log_metric(\"f1_score\", f1_score(y_test, y_pred))"
   ]
  },
  {
   "cell_type": "code",
   "execution_count": 24,
   "metadata": {},
   "outputs": [],
   "source": [
    "if mlflow.active_run() is not None:\n",
    "    mlflow.end_run()"
   ]
  },
  {
   "cell_type": "code",
   "execution_count": 25,
   "metadata": {},
   "outputs": [
    {
     "name": "stdout",
     "output_type": "stream",
     "text": [
      "🏃 View run loud-loon-307 at: http://127.0.0.1:5000/#/experiments/2/runs/1b04f6403d5f48d7aabe385785a1c295\n",
      "🧪 View experiment at: http://127.0.0.1:5000/#/experiments/2\n"
     ]
    }
   ],
   "source": [
    "with mlflow.start_run():\n",
    "    # entraînement modèle, log params & metrics\n",
    "    mlflow.log_param(\"model\", \"Logistic Regression\")\n",
    "    mlflow.log_metric(\"accuracy\", accuracy_score(y_test, y_pred))"
   ]
  },
  {
   "cell_type": "markdown",
   "metadata": {},
   "source": [
    "# A désactiver en production"
   ]
  },
  {
   "cell_type": "code",
   "execution_count": 26,
   "metadata": {},
   "outputs": [
    {
     "name": "stdout",
     "output_type": "stream",
     "text": [
      "🚀 MLFlow UI lancé sur http://127.0.0.1:5000\n"
     ]
    }
   ],
   "source": [
    "utils.launch_mlflow_ui()"
   ]
  },
  {
   "cell_type": "code",
   "execution_count": 27,
   "metadata": {},
   "outputs": [],
   "source": [
    "# mlflow.end_run()  # Pour stopper tout run en cours\n"
   ]
  },
  {
   "cell_type": "markdown",
   "metadata": {},
   "source": []
  },
  {
   "cell_type": "code",
   "execution_count": null,
   "metadata": {},
   "outputs": [],
   "source": []
  }
 ],
 "metadata": {
  "kernelspec": {
   "display_name": "env_p7_MLOps",
   "language": "python",
   "name": "python3"
  },
  "language_info": {
   "codemirror_mode": {
    "name": "ipython",
    "version": 3
   },
   "file_extension": ".py",
   "mimetype": "text/x-python",
   "name": "python",
   "nbconvert_exporter": "python",
   "pygments_lexer": "ipython3",
   "version": "3.10.11"
  }
 },
 "nbformat": 4,
 "nbformat_minor": 2
}
