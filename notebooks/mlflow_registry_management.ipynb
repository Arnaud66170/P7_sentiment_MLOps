{
 "cells": [
  {
   "cell_type": "markdown",
   "metadata": {},
   "source": [
    "# Notebook: MLFlow Registry Management (Local & Production) - Version multi-modèles\n",
    "\n",
    "---\n",
    "# 1 vérification de l'occupation du port (MLflow déjà en route)"
   ]
  },
  {
   "cell_type": "code",
   "execution_count": 1,
   "metadata": {},
   "outputs": [],
   "source": [
    "import subprocess\n",
    "import socket"
   ]
  },
  {
   "cell_type": "code",
   "execution_count": 2,
   "metadata": {},
   "outputs": [],
   "source": [
    "def check_and_launch_mlflow(port=5000):\n",
    "    sock = socket.socket(socket.AF_INET, socket.SOCK_STREAM)\n",
    "    result = sock.connect_ex(('127.0.0.1', port))\n",
    "    if result == 0:\n",
    "        print(f\"✅ MLFlow Tracking Server déjà actif sur http://127.0.0.1:{port}\")\n",
    "    else:\n",
    "        print(f\"🚀 Lancement du MLFlow Tracking Server sur le port {port}...\")\n",
    "        subprocess.Popen(\n",
    "            [\"mlflow\", \"server\", \"--backend-store-uri\", \"./mlruns\", \"--default-artifact-root\", \"./mlruns\", \"--host\", \"127.0.0.1\", \"--port\", str(port)],\n",
    "            stdout=subprocess.DEVNULL,\n",
    "            stderr=subprocess.DEVNULL\n",
    "        )\n",
    "    sock.close()"
   ]
  },
  {
   "cell_type": "code",
   "execution_count": 3,
   "metadata": {},
   "outputs": [
    {
     "name": "stdout",
     "output_type": "stream",
     "text": [
      "✅ MLFlow Tracking Server déjà actif sur http://127.0.0.1:5000\n"
     ]
    }
   ],
   "source": [
    "check_and_launch_mlflow()"
   ]
  },
  {
   "cell_type": "markdown",
   "metadata": {},
   "source": [
    "# 1 -  Connexion au Tracking Server"
   ]
  },
  {
   "cell_type": "code",
   "execution_count": 4,
   "metadata": {},
   "outputs": [],
   "source": [
    "import mlflow\n",
    "from mlflow.tracking import MlflowClient\n",
    "from mlflow.pyfunc import load_model"
   ]
  },
  {
   "cell_type": "markdown",
   "metadata": {},
   "source": [
    "## 1.1 - MLFlow Tracking URI (modifiable pour prod/local)"
   ]
  },
  {
   "cell_type": "code",
   "execution_count": 5,
   "metadata": {},
   "outputs": [],
   "source": [
    "mlflow_url = \"http://127.0.0.1:5000\"\n",
    "mlflow.set_tracking_uri(mlflow_url)"
   ]
  },
  {
   "cell_type": "code",
   "execution_count": 6,
   "metadata": {},
   "outputs": [
    {
     "name": "stdout",
     "output_type": "stream",
     "text": [
      "🟢 Connecté à MLFlow Tracking Server : http://127.0.0.1:5000\n",
      "MLFlow Version : 2.21.0\n"
     ]
    }
   ],
   "source": [
    "print(f\"\\U0001F7E2 Connecté à MLFlow Tracking Server : {mlflow_url}\")\n",
    "print(f\"MLFlow Version : {mlflow.__version__}\")"
   ]
  },
  {
   "cell_type": "markdown",
   "metadata": {},
   "source": [
    "# 2 - Listing des modèles enregistrés"
   ]
  },
  {
   "cell_type": "code",
   "execution_count": 7,
   "metadata": {},
   "outputs": [],
   "source": [
    "client = MlflowClient()\n",
    "# models = client.list_registered_models()"
   ]
  },
  {
   "cell_type": "code",
   "execution_count": 8,
   "metadata": {},
   "outputs": [],
   "source": [
    "models = client.search_registered_models()"
   ]
  },
  {
   "cell_type": "code",
   "execution_count": 9,
   "metadata": {},
   "outputs": [
    {
     "name": "stdout",
     "output_type": "stream",
     "text": [
      "\n",
      "📋 4 modèles trouvés dans le Model Registry :\n",
      "\n",
      "🔹 Nom du modèle : sentiment_model_lgbm\n",
      "   Dernière(s) versions : ['1']\n",
      "   Description : Aucune\n",
      "--------------------------------------------------\n",
      "🔹 Nom du modèle : sentiment_model_logreg\n",
      "   Dernière(s) versions : ['1']\n",
      "   Description : Aucune\n",
      "--------------------------------------------------\n",
      "🔹 Nom du modèle : sentiment_model_lstm\n",
      "   Dernière(s) versions : ['1']\n",
      "   Description : Aucune\n",
      "--------------------------------------------------\n",
      "🔹 Nom du modèle : sentiment_model_rf\n",
      "   Dernière(s) versions : ['1']\n",
      "   Description : Aucune\n",
      "--------------------------------------------------\n"
     ]
    }
   ],
   "source": [
    "print(f\"\\n📋 {len(models)} modèles trouvés dans le Model Registry :\\n\")\n",
    "for model in models:\n",
    "    print(f\"🔹 Nom du modèle : {model.name}\")\n",
    "    print(f\"   Dernière(s) versions : {[v.version for v in model.latest_versions]}\")\n",
    "    print(f\"   Description : {model.description if model.description else 'Aucune'}\")\n",
    "    print(\"-\" * 50)"
   ]
  },
  {
   "cell_type": "markdown",
   "metadata": {},
   "source": [
    "# 3 - Récupération des détails et promotion éventuelle pour chaque modèle"
   ]
  },
  {
   "cell_type": "code",
   "execution_count": 10,
   "metadata": {},
   "outputs": [
    {
     "name": "stdout",
     "output_type": "stream",
     "text": [
      "\n",
      "📊 Détails pour le modèle : sentiment_model_lgbm\n",
      "   ➤ Version : 1\n",
      "     Current Stage : None\n",
      "     Run ID : ba17c2acf2784d7aa195001132ba0e2e\n",
      "🚀 Version 1 promue en Production.\n"
     ]
    },
    {
     "name": "stderr",
     "output_type": "stream",
     "text": [
      "C:\\Users\\motar\\AppData\\Local\\Temp\\ipykernel_4208\\3089628948.py:11: FutureWarning: ``mlflow.tracking.client.MlflowClient.transition_model_version_stage`` is deprecated since 2.9.0. Model registry stages will be removed in a future major release. To learn more about the deprecation of model registry stages, see our migration guide here: https://mlflow.org/docs/latest/model-registry.html#migrating-from-stages\n",
      "  client.transition_model_version_stage(\n"
     ]
    },
    {
     "name": "stdout",
     "output_type": "stream",
     "text": [
      "✅ Modèle sentiment_model_lgbm chargé depuis Registry : models:/sentiment_model_lgbm/Production\n",
      "--------------------------------------------------\n",
      "\n",
      "📊 Détails pour le modèle : sentiment_model_logreg\n",
      "   ➤ Version : 1\n",
      "     Current Stage : None\n",
      "     Run ID : 75fa370913e04d5daba4da11f4e802fa\n",
      "🚀 Version 1 promue en Production.\n",
      "✅ Modèle sentiment_model_logreg chargé depuis Registry : models:/sentiment_model_logreg/Production\n",
      "--------------------------------------------------\n",
      "\n",
      "📊 Détails pour le modèle : sentiment_model_lstm\n",
      "   ➤ Version : 1\n",
      "     Current Stage : None\n",
      "     Run ID : cb6658326fb0409cb6d0f11b2f4ce70e\n",
      "🚀 Version 1 promue en Production.\n"
     ]
    },
    {
     "name": "stderr",
     "output_type": "stream",
     "text": [
      "C:\\Users\\motar\\AppData\\Local\\Temp\\ipykernel_4208\\3089628948.py:11: FutureWarning: ``mlflow.tracking.client.MlflowClient.transition_model_version_stage`` is deprecated since 2.9.0. Model registry stages will be removed in a future major release. To learn more about the deprecation of model registry stages, see our migration guide here: https://mlflow.org/docs/latest/model-registry.html#migrating-from-stages\n",
      "  client.transition_model_version_stage(\n",
      "C:\\Users\\motar\\AppData\\Local\\Temp\\ipykernel_4208\\3089628948.py:11: FutureWarning: ``mlflow.tracking.client.MlflowClient.transition_model_version_stage`` is deprecated since 2.9.0. Model registry stages will be removed in a future major release. To learn more about the deprecation of model registry stages, see our migration guide here: https://mlflow.org/docs/latest/model-registry.html#migrating-from-stages\n",
      "  client.transition_model_version_stage(\n",
      "c:\\Users\\motar\\Desktop\\1-openclassrooms\\AI_Engineer\\1-projets\\P07\\P7_sentiment_MLOps\\env_p7_MLOps\\lib\\site-packages\\keras\\src\\saving\\saving_lib.py:757: UserWarning: Skipping variable loading for optimizer 'rmsprop', because it has 12 variables whereas the saved optimizer has 22 variables. \n",
      "  saveable.load_own_variables(weights_store.get(inner_path))\n",
      "C:\\Users\\motar\\AppData\\Local\\Temp\\ipykernel_4208\\3089628948.py:11: FutureWarning: ``mlflow.tracking.client.MlflowClient.transition_model_version_stage`` is deprecated since 2.9.0. Model registry stages will be removed in a future major release. To learn more about the deprecation of model registry stages, see our migration guide here: https://mlflow.org/docs/latest/model-registry.html#migrating-from-stages\n",
      "  client.transition_model_version_stage(\n"
     ]
    },
    {
     "name": "stdout",
     "output_type": "stream",
     "text": [
      "✅ Modèle sentiment_model_lstm chargé depuis Registry : models:/sentiment_model_lstm/Production\n",
      "--------------------------------------------------\n",
      "\n",
      "📊 Détails pour le modèle : sentiment_model_rf\n",
      "   ➤ Version : 1\n",
      "     Current Stage : None\n",
      "     Run ID : 19f259f8b0374b68a617af58a59a0f5c\n",
      "🚀 Version 1 promue en Production.\n",
      "✅ Modèle sentiment_model_rf chargé depuis Registry : models:/sentiment_model_rf/Production\n",
      "--------------------------------------------------\n",
      "\n",
      "🎯 Traitement de tous les modèles terminé.\n"
     ]
    }
   ],
   "source": [
    "for model in models:\n",
    "    print(f\"\\n📊 Détails pour le modèle : {model.name}\")\n",
    "\n",
    "    for version_info in model.latest_versions:\n",
    "        print(f\"   ➤ Version : {version_info.version}\")\n",
    "        print(f\"     Current Stage : {version_info.current_stage}\")\n",
    "        print(f\"     Run ID : {version_info.run_id}\")\n",
    "\n",
    "        # Promotion en Production si pas encore fait\n",
    "        if version_info.current_stage != \"Production\":\n",
    "            client.transition_model_version_stage(\n",
    "                name=model.name,\n",
    "                version=version_info.version,\n",
    "                stage=\"Production\"\n",
    "            )\n",
    "            print(f\"🚀 Version {version_info.version} promue en Production.\")\n",
    "        else:\n",
    "            print(f\"✅ Version {version_info.version} déjà en Production.\")\n",
    "\n",
    "        # Téléchargement dynamique du modèle depuis Registry\n",
    "        model_uri = f\"models:/{model.name}/Production\"\n",
    "        try:\n",
    "            model_loaded = load_model(model_uri)\n",
    "            print(f\"✅ Modèle {model.name} chargé depuis Registry : {model_uri}\")\n",
    "        except Exception as e:\n",
    "            print(f\"❌ Impossible de charger {model.name} : {e}\")\n",
    "\n",
    "    print(\"-\" * 50)\n",
    "\n",
    "print(\"\\n🎯 Traitement de tous les modèles terminé.\")"
   ]
  },
  {
   "cell_type": "markdown",
   "metadata": {},
   "source": [
    "# 4 - Aide à l'intégration dans API ou CI/CD plus tard"
   ]
  },
  {
   "cell_type": "code",
   "execution_count": 11,
   "metadata": {},
   "outputs": [
    {
     "name": "stdout",
     "output_type": "stream",
     "text": [
      "\n",
      "🔽 Bonnes pratiques recommandées :\n",
      "- Versionner systématiquement tous les modèles via le Registry.\n",
      "- Toujours charger les modèles dynamiquement depuis le Registry dans vos API.\n",
      "- Gérer la promotion des modèles sans toucher au code API (via MLflowClient ou MLFlow UI).\n",
      "- Possibilité d'automatiser ce notebook dans un pipeline CI/CD (GitHub Actions, etc.).\n"
     ]
    }
   ],
   "source": [
    "print(\"\\n🔽 Bonnes pratiques recommandées :\")\n",
    "print(\"- Versionner systématiquement tous les modèles via le Registry.\")\n",
    "print(\"- Toujours charger les modèles dynamiquement depuis le Registry dans vos API.\")\n",
    "print(\"- Gérer la promotion des modèles sans toucher au code API (via MLflowClient ou MLFlow UI).\")\n",
    "print(\"- Possibilité d'automatiser ce notebook dans un pipeline CI/CD (GitHub Actions, etc.).\")"
   ]
  }
 ],
 "metadata": {
  "kernelspec": {
   "display_name": "env_p7_MLOps",
   "language": "python",
   "name": "python3"
  },
  "language_info": {
   "codemirror_mode": {
    "name": "ipython",
    "version": 3
   },
   "file_extension": ".py",
   "mimetype": "text/x-python",
   "name": "python",
   "nbconvert_exporter": "python",
   "pygments_lexer": "ipython3",
   "version": "3.10.11"
  }
 },
 "nbformat": 4,
 "nbformat_minor": 2
}
